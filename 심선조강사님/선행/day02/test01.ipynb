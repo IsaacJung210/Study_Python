{
 "cells": [
  {
   "cell_type": "code",
   "execution_count": 6,
   "id": "20011c6c-d2b9-46bf-b918-1833944d657d",
   "metadata": {},
   "outputs": [
    {
     "data": {
      "text/plain": [
       "[]"
      ]
     },
     "execution_count": 6,
     "metadata": {},
     "output_type": "execute_result"
    }
   ],
   "source": [
    "a=[]\n",
    "a"
   ]
  },
  {
   "cell_type": "code",
   "execution_count": 7,
   "id": "8a8822be-5cdd-408a-870c-7310d38245d0",
   "metadata": {},
   "outputs": [
    {
     "data": {
      "text/plain": [
       "[]"
      ]
     },
     "execution_count": 7,
     "metadata": {},
     "output_type": "execute_result"
    }
   ],
   "source": [
    "a1=list()\n",
    "a1"
   ]
  },
  {
   "cell_type": "code",
   "execution_count": 8,
   "id": "42e2b1a5-aa71-4db8-9d1e-18414defc9d7",
   "metadata": {},
   "outputs": [
    {
     "data": {
      "text/plain": [
       "[1, 2, 3]"
      ]
     },
     "execution_count": 8,
     "metadata": {},
     "output_type": "execute_result"
    }
   ],
   "source": [
    "b=[1,2,3]\n",
    "b"
   ]
  },
  {
   "cell_type": "code",
   "execution_count": 9,
   "id": "73451131-571f-4dc2-93de-f6a25508844e",
   "metadata": {},
   "outputs": [
    {
     "data": {
      "text/plain": [
       "list"
      ]
     },
     "execution_count": 9,
     "metadata": {},
     "output_type": "execute_result"
    }
   ],
   "source": [
    "type(b)"
   ]
  },
  {
   "cell_type": "code",
   "execution_count": 11,
   "id": "9339bd63-5ca6-46b1-a561-7504a02e6bbd",
   "metadata": {},
   "outputs": [
    {
     "data": {
      "text/plain": [
       "[1, 2, 'Life', 'is']"
      ]
     },
     "execution_count": 11,
     "metadata": {},
     "output_type": "execute_result"
    }
   ],
   "source": [
    "d = [1,2, 'Life','is']\n",
    "d"
   ]
  },
  {
   "cell_type": "code",
   "execution_count": 13,
   "id": "e1b7c6fd-5365-4fc5-a4cd-4997988f89f3",
   "metadata": {},
   "outputs": [
    {
     "data": {
      "text/plain": [
       "[1, 2, ['life', 'is']]"
      ]
     },
     "execution_count": 13,
     "metadata": {},
     "output_type": "execute_result"
    }
   ],
   "source": [
    "e = [1,2,['life','is']]\n",
    "e"
   ]
  },
  {
   "cell_type": "code",
   "execution_count": 14,
   "id": "3943629d-29d3-4c5d-857c-90b6955e8665",
   "metadata": {},
   "outputs": [],
   "source": [
    "a = [1,2, ['a', 'b',['life','is']]]"
   ]
  },
  {
   "cell_type": "code",
   "execution_count": 15,
   "id": "eef9d7ec-f7cb-4cdf-ad6e-99f17a981b4d",
   "metadata": {},
   "outputs": [
    {
     "data": {
      "text/plain": [
       "'life'"
      ]
     },
     "execution_count": 15,
     "metadata": {},
     "output_type": "execute_result"
    }
   ],
   "source": [
    "a[2][2][0]"
   ]
  },
  {
   "cell_type": "code",
   "execution_count": 16,
   "id": "034b8829-8ed9-440b-9af5-37e0e473ad27",
   "metadata": {},
   "outputs": [
    {
     "data": {
      "text/plain": [
       "[2]"
      ]
     },
     "execution_count": 16,
     "metadata": {},
     "output_type": "execute_result"
    }
   ],
   "source": [
    "a[1:2]"
   ]
  },
  {
   "cell_type": "code",
   "execution_count": 19,
   "id": "70f491f9-2e14-4da0-9a23-6553023ff0f1",
   "metadata": {},
   "outputs": [
    {
     "data": {
      "text/plain": [
       "3"
      ]
     },
     "execution_count": 19,
     "metadata": {},
     "output_type": "execute_result"
    }
   ],
   "source": [
    "len(a[2][2])"
   ]
  },
  {
   "cell_type": "code",
   "execution_count": 20,
   "id": "8a0a9c71-2eae-4f35-a4bd-a412f78b4dc8",
   "metadata": {},
   "outputs": [
    {
     "data": {
      "text/plain": [
       "'lifelifelife'"
      ]
     },
     "execution_count": 20,
     "metadata": {},
     "output_type": "execute_result"
    }
   ],
   "source": [
    "a[2][2][0]*3"
   ]
  },
  {
   "cell_type": "code",
   "execution_count": 21,
   "id": "8d7a581a-2ed1-40d0-b8dd-5a1a5f055f97",
   "metadata": {},
   "outputs": [
    {
     "data": {
      "text/plain": [
       "[1, 2, 3]"
      ]
     },
     "execution_count": 21,
     "metadata": {},
     "output_type": "execute_result"
    }
   ],
   "source": [
    "a = [1,2,3]\n",
    "a"
   ]
  },
  {
   "cell_type": "code",
   "execution_count": 22,
   "id": "7906169c-e427-489a-a4d4-dba283b77ae4",
   "metadata": {},
   "outputs": [
    {
     "data": {
      "text/plain": [
       "2"
      ]
     },
     "execution_count": 22,
     "metadata": {},
     "output_type": "execute_result"
    }
   ],
   "source": [
    "a[1]"
   ]
  },
  {
   "cell_type": "code",
   "execution_count": 32,
   "id": "e6bed919-7d3f-4a26-b215-7f42518f93d4",
   "metadata": {},
   "outputs": [
    {
     "data": {
      "text/plain": [
       "[1, 4, 3]"
      ]
     },
     "execution_count": 32,
     "metadata": {},
     "output_type": "execute_result"
    }
   ],
   "source": [
    "a = [1,4,3]\n",
    "a"
   ]
  },
  {
   "cell_type": "code",
   "execution_count": 33,
   "id": "1a59715c-a25a-42ed-a808-d46921356b36",
   "metadata": {},
   "outputs": [
    {
     "data": {
      "text/plain": [
       "[1, 4, 3, 4, 4]"
      ]
     },
     "execution_count": 34,
     "metadata": {},
     "output_type": "execute_result"
    }
   ],
   "source": [
    "a.append(4)\n",
    "a"
   ]
  },
  {
   "cell_type": "code",
   "execution_count": 35,
   "id": "bb45207c-7a50-4db5-951b-0ab766e78f62",
   "metadata": {},
   "outputs": [
    {
     "data": {
      "text/plain": [
       "[1, 4, 3, 4]"
      ]
     },
     "execution_count": 35,
     "metadata": {},
     "output_type": "execute_result"
    }
   ],
   "source": [
    "del a[4]\n",
    "a"
   ]
  },
  {
   "cell_type": "code",
   "execution_count": 36,
   "id": "143b933e-0d98-4e74-b19f-35bca3fa074d",
   "metadata": {},
   "outputs": [
    {
     "data": {
      "text/plain": [
       "[1, 4, 3]"
      ]
     },
     "execution_count": 36,
     "metadata": {},
     "output_type": "execute_result"
    }
   ],
   "source": [
    "del a[3]\n",
    "a"
   ]
  },
  {
   "cell_type": "code",
   "execution_count": 37,
   "id": "3b184025-32ea-46e6-ac2e-37feb508e84e",
   "metadata": {},
   "outputs": [],
   "source": [
    "a = [1,2,3]"
   ]
  },
  {
   "cell_type": "code",
   "execution_count": 38,
   "id": "277eaa62-4014-45bc-807c-0f4f326c50fd",
   "metadata": {},
   "outputs": [
    {
     "data": {
      "text/plain": [
       "[1, 2, 3, 5]"
      ]
     },
     "execution_count": 38,
     "metadata": {},
     "output_type": "execute_result"
    }
   ],
   "source": [
    "a.append(5)\n",
    "a"
   ]
  },
  {
   "cell_type": "code",
   "execution_count": 39,
   "id": "0323e97e-d9c4-4760-a2f5-34ab6e11d21f",
   "metadata": {},
   "outputs": [
    {
     "data": {
      "text/plain": [
       "[1, 2, 3, 5, [6, 7]]"
      ]
     },
     "execution_count": 39,
     "metadata": {},
     "output_type": "execute_result"
    }
   ],
   "source": [
    "a.append([6,7])\n",
    "a"
   ]
  },
  {
   "cell_type": "code",
   "execution_count": 40,
   "id": "d94f77e5-8286-4e83-997c-6037b86a7dfc",
   "metadata": {},
   "outputs": [
    {
     "data": {
      "text/plain": [
       "[1, 2, 3, 5, [6, 7], 8, 9]"
      ]
     },
     "execution_count": 40,
     "metadata": {},
     "output_type": "execute_result"
    }
   ],
   "source": [
    "a.extend([8,9])\n",
    "a"
   ]
  },
  {
   "cell_type": "code",
   "execution_count": 51,
   "id": "ef7a0cf4-755f-490f-96f4-1bf2dfe29327",
   "metadata": {},
   "outputs": [],
   "source": [
    "a = [3, 2, 5, 1, 7, 6]\n",
    "a.sort(reverse=True)"
   ]
  },
  {
   "cell_type": "code",
   "execution_count": 52,
   "id": "7048540a-bc49-4b09-9d70-dce17abee4ea",
   "metadata": {},
   "outputs": [
    {
     "data": {
      "text/plain": [
       "[7, 6, 5, 3, 2, 1]"
      ]
     },
     "execution_count": 52,
     "metadata": {},
     "output_type": "execute_result"
    }
   ],
   "source": [
    "a"
   ]
  },
  {
   "cell_type": "code",
   "execution_count": 43,
   "id": "98d432a9-f36c-4806-8832-29fa8df25d0f",
   "metadata": {},
   "outputs": [],
   "source": [
    "a.reverse()"
   ]
  },
  {
   "cell_type": "code",
   "execution_count": 44,
   "id": "5eff2251-4461-448c-8c13-b08d33f15961",
   "metadata": {},
   "outputs": [
    {
     "data": {
      "text/plain": [
       "[7, 6, 5, 3, 2, 1]"
      ]
     },
     "execution_count": 44,
     "metadata": {},
     "output_type": "execute_result"
    }
   ],
   "source": [
    "a"
   ]
  },
  {
   "cell_type": "code",
   "execution_count": 53,
   "id": "c60acf94-fba3-4c22-82f1-26b3694ab6af",
   "metadata": {},
   "outputs": [
    {
     "data": {
      "text/plain": [
       "1"
      ]
     },
     "execution_count": 53,
     "metadata": {},
     "output_type": "execute_result"
    }
   ],
   "source": [
    "a=['b','c','e','f']\n",
    "a.index('c')"
   ]
  },
  {
   "cell_type": "code",
   "execution_count": 54,
   "id": "b14da61e-e93e-4dba-b39b-14f0d26f3f74",
   "metadata": {},
   "outputs": [],
   "source": [
    "a=[1,2,3]\n",
    "a.insert(0,4)"
   ]
  },
  {
   "cell_type": "code",
   "execution_count": 55,
   "id": "945c208e-2448-4c97-ab3b-0affd1aafa5a",
   "metadata": {},
   "outputs": [
    {
     "data": {
      "text/plain": [
       "[4, 1, 2, 3]"
      ]
     },
     "execution_count": 55,
     "metadata": {},
     "output_type": "execute_result"
    }
   ],
   "source": [
    "a"
   ]
  },
  {
   "cell_type": "code",
   "execution_count": 56,
   "id": "58ec527f-0d0d-459b-b227-c35c95b7bc3b",
   "metadata": {},
   "outputs": [],
   "source": [
    "a.remove(4)"
   ]
  },
  {
   "cell_type": "code",
   "execution_count": 57,
   "id": "331e88fb-6a73-456e-ac56-7512d58fdc9d",
   "metadata": {},
   "outputs": [
    {
     "data": {
      "text/plain": [
       "[1, 2, 3]"
      ]
     },
     "execution_count": 57,
     "metadata": {},
     "output_type": "execute_result"
    }
   ],
   "source": [
    "a"
   ]
  },
  {
   "cell_type": "code",
   "execution_count": 58,
   "id": "38f4f4f7-8015-4270-adb8-d5897c257037",
   "metadata": {},
   "outputs": [
    {
     "data": {
      "text/plain": [
       "3"
      ]
     },
     "execution_count": 58,
     "metadata": {},
     "output_type": "execute_result"
    }
   ],
   "source": [
    "a.pop()"
   ]
  },
  {
   "cell_type": "code",
   "execution_count": 59,
   "id": "7c39f49c-94c7-4ce3-a3e0-b6ac57d74205",
   "metadata": {},
   "outputs": [
    {
     "data": {
      "text/plain": [
       "1"
      ]
     },
     "execution_count": 59,
     "metadata": {},
     "output_type": "execute_result"
    }
   ],
   "source": [
    "a.pop(0)"
   ]
  },
  {
   "cell_type": "code",
   "execution_count": 60,
   "id": "c5c0853b-5baf-43db-9a89-8bb6db30f324",
   "metadata": {},
   "outputs": [
    {
     "data": {
      "text/plain": [
       "[2]"
      ]
     },
     "execution_count": 60,
     "metadata": {},
     "output_type": "execute_result"
    }
   ],
   "source": [
    "a"
   ]
  },
  {
   "cell_type": "code",
   "execution_count": 61,
   "id": "da9fa9fc-e373-46b8-b7f7-1115ae02b25d",
   "metadata": {},
   "outputs": [
    {
     "data": {
      "text/plain": [
       "2"
      ]
     },
     "execution_count": 61,
     "metadata": {},
     "output_type": "execute_result"
    }
   ],
   "source": [
    "a=[1,2,2,1,3,2,3,2,3]\n",
    "a.count(1)"
   ]
  },
  {
   "cell_type": "code",
   "execution_count": 63,
   "id": "d2374451-aaca-43b6-9a35-0c9eda74664b",
   "metadata": {},
   "outputs": [],
   "source": [
    "item=[]"
   ]
  },
  {
   "cell_type": "code",
   "execution_count": 64,
   "id": "ea980725-5970-4e19-ae4f-1750a5aa8398",
   "metadata": {},
   "outputs": [
    {
     "data": {
      "text/plain": [
       "['1234, 정지훈, 010-0000-0000, 20살']"
      ]
     },
     "execution_count": 64,
     "metadata": {},
     "output_type": "execute_result"
    }
   ],
   "source": [
    "item.append('1234, 정지훈, 010-0000-0000, 20살')\n",
    "item"
   ]
  },
  {
   "cell_type": "code",
   "execution_count": 65,
   "id": "b6e353e3-087f-4039-968e-f6f917298b92",
   "metadata": {},
   "outputs": [
    {
     "data": {
      "text/plain": [
       "[]"
      ]
     },
     "execution_count": 65,
     "metadata": {},
     "output_type": "execute_result"
    }
   ],
   "source": [
    "item.remove('1234, 정지훈, 010-0000-0000, 20살')\n",
    "item"
   ]
  },
  {
   "cell_type": "code",
   "execution_count": 70,
   "id": "9df63505-3e85-4923-b488-04f6948b9f5d",
   "metadata": {},
   "outputs": [
    {
     "data": {
      "text/plain": [
       "['1234, 정지훈, 010-0000-0000, 20살',\n",
       " '1234, 정지훈, 010-0000-0000, 20살',\n",
       " '1234, 정지훈, 010-0000-0000, 20살']"
      ]
     },
     "execution_count": 70,
     "metadata": {},
     "output_type": "execute_result"
    }
   ],
   "source": [
    "item.append('1234, 정지훈, 010-0000-0000, 20살')\n",
    "item"
   ]
  },
  {
   "cell_type": "code",
   "execution_count": 71,
   "id": "de27500e-ceb5-4c76-aa72-ca274fe49c3b",
   "metadata": {},
   "outputs": [
    {
     "data": {
      "text/plain": [
       "'1234, 정지훈, 010-0000-0000, 20살'"
      ]
     },
     "execution_count": 71,
     "metadata": {},
     "output_type": "execute_result"
    }
   ],
   "source": [
    "item.pop()"
   ]
  },
  {
   "cell_type": "code",
   "execution_count": 72,
   "id": "76919c5b-fd87-4a4f-8492-7518ecf72df7",
   "metadata": {},
   "outputs": [
    {
     "data": {
      "text/plain": [
       "['1234, 정지훈, 010-0000-0000, 20살', '1234, 정지훈, 010-0000-0000, 20살']"
      ]
     },
     "execution_count": 72,
     "metadata": {},
     "output_type": "execute_result"
    }
   ],
   "source": [
    "item"
   ]
  },
  {
   "cell_type": "code",
   "execution_count": 73,
   "id": "5a53adf8-5af4-4d16-b4ca-64809f8d85e4",
   "metadata": {},
   "outputs": [
    {
     "data": {
      "text/plain": [
       "'1234, 정지훈, 010-0000-0000, 20살'"
      ]
     },
     "execution_count": 73,
     "metadata": {},
     "output_type": "execute_result"
    }
   ],
   "source": [
    "item.pop(1)"
   ]
  },
  {
   "cell_type": "code",
   "execution_count": 74,
   "id": "600818a5-09d3-455a-a151-355617773c9d",
   "metadata": {},
   "outputs": [
    {
     "data": {
      "text/plain": [
       "['1234, 정지훈, 010-0000-0000, 20살']"
      ]
     },
     "execution_count": 74,
     "metadata": {},
     "output_type": "execute_result"
    }
   ],
   "source": [
    "item"
   ]
  },
  {
   "cell_type": "raw",
   "id": "7b1859a2-f885-4442-b699-ef8ef69c0f1b",
   "metadata": {},
   "source": [
    "1. 빈리스트를 작성합니다. 리스트 이름 item"
   ]
  },
  {
   "cell_type": "code",
   "execution_count": 75,
   "id": "20e523f0-6070-4bc7-af63-557365b69f19",
   "metadata": {},
   "outputs": [],
   "source": [
    "item=[]"
   ]
  },
  {
   "cell_type": "raw",
   "id": "76dd05de-0b44-443c-96f2-59eb4558c5e5",
   "metadata": {},
   "source": [
    "2. 회원번호, 이름, 전화번호, 나이를 입력받아서 리스트에 리스트로 저장합니다."
   ]
  },
  {
   "cell_type": "code",
   "execution_count": 77,
   "id": "63427222-6f3f-4e6e-9d2a-6722eb3358a0",
   "metadata": {},
   "outputs": [
    {
     "name": "stdin",
     "output_type": "stream",
     "text": [
      "회원이름 >>>> 2345\n",
      "이름 >>> 홍길동\n",
      "전화번호 >>> 010-1111-1234\n",
      "나이 >>> 23\n"
     ]
    },
    {
     "data": {
      "text/plain": [
       "[['123', '정지훈', '010-1234-5678', '24'], ['2345', '홍길동', '010-1111-1234', '23']]"
      ]
     },
     "execution_count": 77,
     "metadata": {},
     "output_type": "execute_result"
    }
   ],
   "source": [
    "no = input('회원이름 >>>>')\n",
    "name = input('이름 >>>')\n",
    "tel = input('전화번호 >>>')\n",
    "age = input('나이 >>>')\n",
    "item.append([no,name,tel,age])\n",
    "item"
   ]
  },
  {
   "cell_type": "raw",
   "id": "447246f6-f97e-47bf-973b-0796b48f82e3",
   "metadata": {},
   "source": [
    "3. 회원번호를 입력받아서 해당 회원정보를 출력하고 삭제합니다."
   ]
  },
  {
   "cell_type": "code",
   "execution_count": 80,
   "id": "1b0bea59-a8b3-40f8-8afd-df71956dca40",
   "metadata": {},
   "outputs": [],
   "source": [
    "item = [['1', '홍길동', '010-123-1234', '23'], ['2', '홍길순', '010-111-2222', '25']] \n",
    "inputno = input('회원번호 >>>')\n",
    "for i in item:\n",
    "    if inputno == i[0]:\n",
    "        item.remove(i)\n",
    "item"
   ]
  },
  {
   "cell_type": "code",
   "execution_count": 81,
   "id": "2b90f09e-ad3c-4194-9be1-c238bdefa6db",
   "metadata": {},
   "outputs": [],
   "source": [
    "t1 = (1,2,'a','b')"
   ]
  },
  {
   "cell_type": "code",
   "execution_count": 82,
   "id": "3b58da20-84c3-4155-a401-65551667ed3f",
   "metadata": {},
   "outputs": [
    {
     "data": {
      "text/plain": [
       "1"
      ]
     },
     "execution_count": 82,
     "metadata": {},
     "output_type": "execute_result"
    }
   ],
   "source": [
    "t1[0]"
   ]
  },
  {
   "cell_type": "code",
   "execution_count": 83,
   "id": "565d97f7-b6b7-4d7f-82be-f43734c386f4",
   "metadata": {},
   "outputs": [],
   "source": [
    "dic = {'name':'pey', 'phone':'0119993323', 'birth': '1118'}"
   ]
  },
  {
   "cell_type": "code",
   "execution_count": 84,
   "id": "13c76213-019a-4817-932d-d73dd4d31b7b",
   "metadata": {},
   "outputs": [
    {
     "data": {
      "text/plain": [
       "'pey'"
      ]
     },
     "execution_count": 84,
     "metadata": {},
     "output_type": "execute_result"
    }
   ],
   "source": [
    "dic['name']"
   ]
  },
  {
   "cell_type": "code",
   "execution_count": 85,
   "id": "1b2b08ad-baf4-4ed5-8774-6601f4b9dd0b",
   "metadata": {},
   "outputs": [],
   "source": [
    "dic['phone']=['001-111-2222','010-5555-8888']"
   ]
  },
  {
   "cell_type": "code",
   "execution_count": 86,
   "id": "c1ca5b78-a811-4f51-bf07-36428d801cff",
   "metadata": {},
   "outputs": [
    {
     "data": {
      "text/plain": [
       "{'name': 'pey', 'phone': ['001-111-2222', '010-5555-8888'], 'birth': '1118'}"
      ]
     },
     "execution_count": 86,
     "metadata": {},
     "output_type": "execute_result"
    }
   ],
   "source": [
    "dic"
   ]
  },
  {
   "cell_type": "code",
   "execution_count": 87,
   "id": "47693781-97c1-4fb5-9d7e-ee6dfff3cbae",
   "metadata": {},
   "outputs": [],
   "source": [
    "dic['gender']='남'"
   ]
  },
  {
   "cell_type": "code",
   "execution_count": 88,
   "id": "08df13c1-0525-400d-b18c-19ee7b7efb74",
   "metadata": {},
   "outputs": [
    {
     "data": {
      "text/plain": [
       "{'name': 'pey',\n",
       " 'phone': ['001-111-2222', '010-5555-8888'],\n",
       " 'birth': '1118',\n",
       " 'gender': '남'}"
      ]
     },
     "execution_count": 88,
     "metadata": {},
     "output_type": "execute_result"
    }
   ],
   "source": [
    "dic"
   ]
  },
  {
   "cell_type": "code",
   "execution_count": 89,
   "id": "05fe7bc7-7251-41c5-a307-f77a18f13961",
   "metadata": {},
   "outputs": [],
   "source": [
    "del dic['gender']"
   ]
  },
  {
   "cell_type": "code",
   "execution_count": 90,
   "id": "8597fcff-f977-4316-a318-d3572643d61c",
   "metadata": {},
   "outputs": [
    {
     "data": {
      "text/plain": [
       "{'name': 'pey', 'phone': ['001-111-2222', '010-5555-8888'], 'birth': '1118'}"
      ]
     },
     "execution_count": 90,
     "metadata": {},
     "output_type": "execute_result"
    }
   ],
   "source": [
    "dic"
   ]
  },
  {
   "cell_type": "code",
   "execution_count": 91,
   "id": "a5257262-ae73-4694-aaf1-d90f223bd54f",
   "metadata": {},
   "outputs": [
    {
     "data": {
      "text/plain": [
       "'010-5555-8888'"
      ]
     },
     "execution_count": 91,
     "metadata": {},
     "output_type": "execute_result"
    }
   ],
   "source": [
    "dic['phone'][1]"
   ]
  },
  {
   "cell_type": "code",
   "execution_count": 92,
   "id": "42b6f7b7-d401-4e62-9c00-54cba28689bf",
   "metadata": {},
   "outputs": [
    {
     "data": {
      "text/plain": [
       "dict_keys(['name', 'phone', 'birth'])"
      ]
     },
     "execution_count": 92,
     "metadata": {},
     "output_type": "execute_result"
    }
   ],
   "source": [
    "dic.keys()"
   ]
  },
  {
   "cell_type": "code",
   "execution_count": 93,
   "id": "0f34bae4-4a70-47aa-9275-21a5bc30f71f",
   "metadata": {},
   "outputs": [
    {
     "data": {
      "text/plain": [
       "dict_values(['pey', ['001-111-2222', '010-5555-8888'], '1118'])"
      ]
     },
     "execution_count": 93,
     "metadata": {},
     "output_type": "execute_result"
    }
   ],
   "source": [
    "dic.values()"
   ]
  },
  {
   "cell_type": "code",
   "execution_count": 94,
   "id": "f1213d26-1da2-4502-aa5e-fe09046a8ce1",
   "metadata": {},
   "outputs": [
    {
     "data": {
      "text/plain": [
       "dict_items([('name', 'pey'), ('phone', ['001-111-2222', '010-5555-8888']), ('birth', '1118')])"
      ]
     },
     "execution_count": 94,
     "metadata": {},
     "output_type": "execute_result"
    }
   ],
   "source": [
    "dic.items()"
   ]
  },
  {
   "cell_type": "code",
   "execution_count": 95,
   "id": "cef9a80b-9042-410c-9159-295463d44078",
   "metadata": {},
   "outputs": [],
   "source": [
    "dic.get('address')"
   ]
  },
  {
   "cell_type": "code",
   "execution_count": 96,
   "id": "9c67cf59-1712-4717-bc2a-59c41630d663",
   "metadata": {},
   "outputs": [
    {
     "data": {
      "text/plain": [
       "'pey'"
      ]
     },
     "execution_count": 96,
     "metadata": {},
     "output_type": "execute_result"
    }
   ],
   "source": [
    "dic.get('name')"
   ]
  },
  {
   "cell_type": "code",
   "execution_count": 101,
   "id": "45e81292-1458-4ad9-910f-50c21cc05094",
   "metadata": {},
   "outputs": [],
   "source": [
    "set1 = {1,2,3,2,1,3,2,1}"
   ]
  },
  {
   "cell_type": "code",
   "execution_count": 102,
   "id": "c218f356-ab93-463f-9e7c-8dccab871188",
   "metadata": {},
   "outputs": [
    {
     "data": {
      "text/plain": [
       "{1, 2, 3}"
      ]
     },
     "execution_count": 102,
     "metadata": {},
     "output_type": "execute_result"
    }
   ],
   "source": [
    "set1"
   ]
  },
  {
   "cell_type": "code",
   "execution_count": 100,
   "id": "e71009bf-2277-46c6-803a-fc1d56888cdf",
   "metadata": {},
   "outputs": [
    {
     "data": {
      "text/plain": [
       "set"
      ]
     },
     "execution_count": 100,
     "metadata": {},
     "output_type": "execute_result"
    }
   ],
   "source": [
    "type(set1)"
   ]
  },
  {
   "cell_type": "code",
   "execution_count": 104,
   "id": "383fe017-05f5-483c-aaed-11fe5a8ec7e3",
   "metadata": {},
   "outputs": [],
   "source": [
    "a = []\n",
    "if a:\n",
    "    print(a)"
   ]
  },
  {
   "cell_type": "raw",
   "id": "52d777aa-922e-4137-b66f-602c3216a3e6",
   "metadata": {},
   "source": [
    "##주민등록번호를 입력받아서 뒷자리 첫번째 숫자가 1,3이면 남자, 2,4이면 여자를 출력하세요"
   ]
  },
  {
   "cell_type": "code",
   "execution_count": 116,
   "id": "2e90f3e6-61e0-4d8c-a8ba-168b6b7615f0",
   "metadata": {},
   "outputs": [
    {
     "name": "stdin",
     "output_type": "stream",
     "text": [
      "주민등록번호 >>> 211231-1111111\n"
     ]
    },
    {
     "name": "stdout",
     "output_type": "stream",
     "text": [
      "남자입니다.\n"
     ]
    }
   ],
   "source": [
    "jumin = input('주민등록번호 >>>')\n",
    "if jumin[7] =='1' or jumin[7] =='3':\n",
    "    print('남자입니다.')\n",
    "elif jumin[7] =='2' or jumin[7] =='4':\n",
    "    print('여자입니다.')\n",
    "else:\n",
    "    print('잘못 입력하셨습니다.')"
   ]
  },
  {
   "cell_type": "code",
   "execution_count": 119,
   "id": "5c831662-982d-4846-892c-d24db0ba2121",
   "metadata": {},
   "outputs": [
    {
     "name": "stdin",
     "output_type": "stream",
     "text": [
      "주민등록번호 >>> 213301-1231561\n"
     ]
    },
    {
     "name": "stdout",
     "output_type": "stream",
     "text": [
      "남자입니다.\n"
     ]
    }
   ],
   "source": [
    "jumin = input('주민등록번호 >>>')\n",
    "if jumin[7] in['1','3']:\n",
    "    print('남자입니다.')\n",
    "elif jumin[7] in['2','4']:\n",
    "    print('여자입니다.')\n",
    "else:\n",
    "    print('잘못 입력하셨습니다.')"
   ]
  },
  {
   "cell_type": "code",
   "execution_count": 123,
   "id": "42f321d4-a611-48bd-9fee-82065bf04648",
   "metadata": {},
   "outputs": [
    {
     "name": "stdout",
     "output_type": "stream",
     "text": [
      "0\n",
      "1\n",
      "2\n",
      "3\n",
      "4\n",
      "5\n",
      "6\n",
      "7\n",
      "8\n",
      "9\n"
     ]
    }
   ],
   "source": [
    "i = 0\n",
    "while i < 10:\n",
    "    print(i)\n",
    "    i += 1"
   ]
  },
  {
   "cell_type": "code",
   "execution_count": 128,
   "id": "c3661b84-9f5d-4519-b9e0-2b8fd4c82cb5",
   "metadata": {},
   "outputs": [
    {
     "name": "stdout",
     "output_type": "stream",
     "text": [
      "5\n",
      "10\n",
      "15\n",
      "20\n",
      "25\n",
      "30\n",
      "35\n",
      "40\n",
      "45\n",
      "50\n",
      "55\n",
      "60\n",
      "65\n",
      "70\n",
      "75\n",
      "80\n",
      "85\n",
      "90\n",
      "95\n",
      "100\n"
     ]
    }
   ],
   "source": [
    "#1~100사이 짝수 출력\n",
    "i = 1\n",
    "while i <= 100:\n",
    "    if i % 5 == 0:\n",
    "        print(i)\n",
    "    i += 1"
   ]
  },
  {
   "cell_type": "code",
   "execution_count": 134,
   "id": "a185964f-c246-420f-9fbc-2119a024edbb",
   "metadata": {},
   "outputs": [
    {
     "name": "stdout",
     "output_type": "stream",
     "text": [
      "1\n"
     ]
    }
   ],
   "source": [
    "i = 1\n",
    "while True:\n",
    "    if i%2 == 0:\n",
    "        break\n",
    "    print(i)\n",
    "    i += 1"
   ]
  },
  {
   "cell_type": "code",
   "execution_count": 137,
   "id": "e2c9ee79-6ea6-41f6-9ce7-674107901692",
   "metadata": {},
   "outputs": [
    {
     "name": "stdout",
     "output_type": "stream",
     "text": [
      "1\n"
     ]
    },
    {
     "ename": "KeyboardInterrupt",
     "evalue": "",
     "output_type": "error",
     "traceback": [
      "\u001b[1;31m---------------------------------------------------------------------------\u001b[0m",
      "\u001b[1;31mKeyboardInterrupt\u001b[0m                         Traceback (most recent call last)",
      "\u001b[1;32m~\\AppData\\Local\\Temp/ipykernel_8748/2793316845.py\u001b[0m in \u001b[0;36m<module>\u001b[1;34m\u001b[0m\n\u001b[0;32m      2\u001b[0m \u001b[1;32mwhile\u001b[0m \u001b[1;32mTrue\u001b[0m\u001b[1;33m:\u001b[0m\u001b[1;33m\u001b[0m\u001b[1;33m\u001b[0m\u001b[0m\n\u001b[0;32m      3\u001b[0m     \u001b[1;32mif\u001b[0m \u001b[0mi\u001b[0m\u001b[1;33m%\u001b[0m\u001b[1;36m2\u001b[0m \u001b[1;33m==\u001b[0m \u001b[1;36m0\u001b[0m\u001b[1;33m:\u001b[0m\u001b[1;33m\u001b[0m\u001b[1;33m\u001b[0m\u001b[0m\n\u001b[1;32m----> 4\u001b[1;33m         \u001b[1;32mcontinue\u001b[0m\u001b[1;33m\u001b[0m\u001b[1;33m\u001b[0m\u001b[0m\n\u001b[0m\u001b[0;32m      5\u001b[0m     \u001b[0mprint\u001b[0m\u001b[1;33m(\u001b[0m\u001b[0mi\u001b[0m\u001b[1;33m)\u001b[0m\u001b[1;33m\u001b[0m\u001b[1;33m\u001b[0m\u001b[0m\n\u001b[0;32m      6\u001b[0m     \u001b[0mi\u001b[0m \u001b[1;33m+=\u001b[0m \u001b[1;36m1\u001b[0m\u001b[1;33m\u001b[0m\u001b[1;33m\u001b[0m\u001b[0m\n",
      "\u001b[1;31mKeyboardInterrupt\u001b[0m: "
     ]
    }
   ],
   "source": [
    "i = 1\n",
    "while True:\n",
    "    if i%2 == 0:\n",
    "        continue\n",
    "    print(i)\n",
    "    i += 1"
   ]
  },
  {
   "cell_type": "code",
   "execution_count": 140,
   "id": "cc45e538-869a-4c5e-8d1f-1a683c1758c4",
   "metadata": {},
   "outputs": [
    {
     "name": "stdout",
     "output_type": "stream",
     "text": [
      "1\n"
     ]
    },
    {
     "ename": "KeyboardInterrupt",
     "evalue": "",
     "output_type": "error",
     "traceback": [
      "\u001b[1;31m---------------------------------------------------------------------------\u001b[0m",
      "\u001b[1;31mKeyboardInterrupt\u001b[0m                         Traceback (most recent call last)",
      "\u001b[1;32m~\\AppData\\Local\\Temp/ipykernel_8748/4006828456.py\u001b[0m in \u001b[0;36m<module>\u001b[1;34m\u001b[0m\n\u001b[0;32m      1\u001b[0m \u001b[0mi\u001b[0m \u001b[1;33m=\u001b[0m \u001b[1;36m1\u001b[0m\u001b[1;33m\u001b[0m\u001b[1;33m\u001b[0m\u001b[0m\n\u001b[0;32m      2\u001b[0m \u001b[1;32mwhile\u001b[0m \u001b[1;32mTrue\u001b[0m\u001b[1;33m:\u001b[0m\u001b[1;33m\u001b[0m\u001b[1;33m\u001b[0m\u001b[0m\n\u001b[1;32m----> 3\u001b[1;33m     \u001b[1;32mif\u001b[0m \u001b[0mi\u001b[0m\u001b[1;33m%\u001b[0m\u001b[1;36m2\u001b[0m \u001b[1;33m==\u001b[0m \u001b[1;36m0\u001b[0m\u001b[1;33m:\u001b[0m\u001b[1;33m\u001b[0m\u001b[1;33m\u001b[0m\u001b[0m\n\u001b[0m\u001b[0;32m      4\u001b[0m         \u001b[1;32mcontinue\u001b[0m\u001b[1;33m\u001b[0m\u001b[1;33m\u001b[0m\u001b[0m\n\u001b[0;32m      5\u001b[0m     \u001b[0mprint\u001b[0m\u001b[1;33m(\u001b[0m\u001b[0mi\u001b[0m\u001b[1;33m)\u001b[0m\u001b[1;33m\u001b[0m\u001b[1;33m\u001b[0m\u001b[0m\n",
      "\u001b[1;31mKeyboardInterrupt\u001b[0m: "
     ]
    }
   ],
   "source": [
    "i = 1\n",
    "while True:    \n",
    "    if i%2 == 0:\n",
    "        continue\n",
    "    print(i)\n",
    "    i += 1"
   ]
  },
  {
   "cell_type": "code",
   "execution_count": 141,
   "id": "8a1323cb-2454-41d2-8ca4-fdcf7da56c6d",
   "metadata": {},
   "outputs": [
    {
     "name": "stdout",
     "output_type": "stream",
     "text": [
      "one\n",
      "two\n",
      "three\n"
     ]
    }
   ],
   "source": [
    "test_list = ['one','two','three']\n",
    "for i in test_list:\n",
    "    print(i)"
   ]
  },
  {
   "cell_type": "code",
   "execution_count": 146,
   "id": "1ed3d4c0-99c4-4c39-8caa-29164c3cb4f0",
   "metadata": {},
   "outputs": [
    {
     "name": "stdout",
     "output_type": "stream",
     "text": [
      "1 2\n",
      "3 4\n",
      "5 6\n"
     ]
    }
   ],
   "source": [
    "a = [(1,2),(3,4),(5,6)]\n",
    "for i,j in a:\n",
    "    print(i,j)"
   ]
  },
  {
   "cell_type": "code",
   "execution_count": 148,
   "id": "3a41b9f9-b96c-4c44-b87a-2bd4351fabe5",
   "metadata": {},
   "outputs": [
    {
     "name": "stdout",
     "output_type": "stream",
     "text": [
      "1\n",
      "2\n",
      "3\n",
      "4\n",
      "5\n",
      "6\n",
      "7\n",
      "8\n",
      "9\n",
      "10\n"
     ]
    }
   ],
   "source": [
    "for i in range(1,11):\n",
    "    print(i)"
   ]
  },
  {
   "cell_type": "code",
   "execution_count": 149,
   "id": "e96cca6d-db43-460f-bb4d-8f3a6e1722e9",
   "metadata": {},
   "outputs": [],
   "source": [
    "##구구단\n",
    "#몇 단을 찍을 지 단을 입력받아서 해당 단을 출력"
   ]
  },
  {
   "cell_type": "code",
   "execution_count": 168,
   "id": "22d8de7f-95b0-4c9e-ba02-a3a67b5dbb66",
   "metadata": {},
   "outputs": [
    {
     "name": "stdin",
     "output_type": "stream",
     "text": [
      "단을 입력하세요 >>> 5\n"
     ]
    },
    {
     "name": "stdout",
     "output_type": "stream",
     "text": [
      "5 * 1 =  5\n",
      "5 * 2 = 10\n",
      "5 * 3 = 15\n",
      "5 * 4 = 20\n",
      "5 * 5 = 25\n",
      "5 * 6 = 30\n",
      "5 * 7 = 35\n",
      "5 * 8 = 40\n",
      "5 * 9 = 45\n"
     ]
    }
   ],
   "source": [
    "dan = input('단을 입력하세요 >>>')\n",
    "if dan.isdecimal():\n",
    "    for i in range(1,10):\n",
    "        print(f'{dan} * {i} = {int(dan)*i:>2}')\n",
    "else:\n",
    "    print('숫자로 입력해주세요.')"
   ]
  },
  {
   "cell_type": "code",
   "execution_count": 150,
   "id": "8e04a727-563c-45d1-8af3-708e442bfd44",
   "metadata": {},
   "outputs": [],
   "source": [
    "##2~9단까지 찍기"
   ]
  },
  {
   "cell_type": "code",
   "execution_count": 184,
   "id": "d0e96ff9-b459-4097-96a1-b119e9df561c",
   "metadata": {},
   "outputs": [
    {
     "name": "stdout",
     "output_type": "stream",
     "text": [
      " 2* 1 =  2  3* 1 =  3  4* 1 =  4  5* 1 =  5  6* 1 =  6  7* 1 =  7  8* 1 =  8  9* 1 =  9 \n",
      " 2* 2 =  4  3* 2 =  6  4* 2 =  8  5* 2 = 10  6* 2 = 12  7* 2 = 14  8* 2 = 16  9* 2 = 18 \n",
      " 2* 3 =  6  3* 3 =  9  4* 3 = 12  5* 3 = 15  6* 3 = 18  7* 3 = 21  8* 3 = 24  9* 3 = 27 \n",
      " 2* 4 =  8  3* 4 = 12  4* 4 = 16  5* 4 = 20  6* 4 = 24  7* 4 = 28  8* 4 = 32  9* 4 = 36 \n",
      " 2* 5 = 10  3* 5 = 15  4* 5 = 20  5* 5 = 25  6* 5 = 30  7* 5 = 35  8* 5 = 40  9* 5 = 45 \n",
      " 2* 6 = 12  3* 6 = 18  4* 6 = 24  5* 6 = 30  6* 6 = 36  7* 6 = 42  8* 6 = 48  9* 6 = 54 \n",
      " 2* 7 = 14  3* 7 = 21  4* 7 = 28  5* 7 = 35  6* 7 = 42  7* 7 = 49  8* 7 = 56  9* 7 = 63 \n",
      " 2* 8 = 16  3* 8 = 24  4* 8 = 32  5* 8 = 40  6* 8 = 48  7* 8 = 56  8* 8 = 64  9* 8 = 72 \n",
      " 2* 9 = 18  3* 9 = 27  4* 9 = 36  5* 9 = 45  6* 9 = 54  7* 9 = 63  8* 9 = 72  9* 9 = 81 \n"
     ]
    }
   ],
   "source": [
    "for i in range(1,10):\n",
    "    for j in range(2,10):\n",
    "        print(f'{j:2}*{i:2} = {i*j:2}',end=' ')\n",
    "    print()"
   ]
  }
 ],
 "metadata": {
  "kernelspec": {
   "display_name": "Python 3 (ipykernel)",
   "language": "python",
   "name": "python3"
  },
  "language_info": {
   "codemirror_mode": {
    "name": "ipython",
    "version": 3
   },
   "file_extension": ".py",
   "mimetype": "text/x-python",
   "name": "python",
   "nbconvert_exporter": "python",
   "pygments_lexer": "ipython3",
   "version": "3.9.7"
  }
 },
 "nbformat": 4,
 "nbformat_minor": 5
}
