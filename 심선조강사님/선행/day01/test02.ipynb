{
 "cells": [
  {
   "cell_type": "code",
   "execution_count": 2,
   "id": "177e9a58-9a4d-46c7-9a6e-e46f8bbaba67",
   "metadata": {},
   "outputs": [],
   "source": [
    "a = \"Life is too short, You need Python\""
   ]
  },
  {
   "cell_type": "code",
   "execution_count": 3,
   "id": "ac88adec-50dd-458e-920c-75660319a9c8",
   "metadata": {},
   "outputs": [
    {
     "data": {
      "text/plain": [
       "'Life is too short, You need Python'"
      ]
     },
     "execution_count": 3,
     "metadata": {},
     "output_type": "execute_result"
    }
   ],
   "source": [
    "a"
   ]
  },
  {
   "cell_type": "code",
   "execution_count": 5,
   "id": "40332121-6af6-4e39-bbbf-7e4f71af1b16",
   "metadata": {},
   "outputs": [
    {
     "data": {
      "text/plain": [
       "'Life'"
      ]
     },
     "execution_count": 5,
     "metadata": {},
     "output_type": "execute_result"
    }
   ],
   "source": [
    "a[0:4]"
   ]
  },
  {
   "cell_type": "code",
   "execution_count": 6,
   "id": "a18466ec-882b-4001-9392-26b249492802",
   "metadata": {},
   "outputs": [
    {
     "data": {
      "text/plain": [
       "'Li'"
      ]
     },
     "execution_count": 6,
     "metadata": {},
     "output_type": "execute_result"
    }
   ],
   "source": [
    "a[0:2]"
   ]
  },
  {
   "cell_type": "code",
   "execution_count": 7,
   "id": "e6f27af0-8112-439f-8c32-d2178f3ee9f6",
   "metadata": {},
   "outputs": [
    {
     "data": {
      "text/plain": [
       "'is'"
      ]
     },
     "execution_count": 7,
     "metadata": {},
     "output_type": "execute_result"
    }
   ],
   "source": [
    "a[5:7]"
   ]
  },
  {
   "cell_type": "code",
   "execution_count": 8,
   "id": "ab34725d-1a8a-4af6-8d0d-22455363f4b2",
   "metadata": {},
   "outputs": [
    {
     "data": {
      "text/plain": [
       "'You need Python'"
      ]
     },
     "execution_count": 8,
     "metadata": {},
     "output_type": "execute_result"
    }
   ],
   "source": [
    "a[19:]"
   ]
  },
  {
   "cell_type": "code",
   "execution_count": 9,
   "id": "96538a29-6da4-4fb9-a02c-cfbdc17c406f",
   "metadata": {},
   "outputs": [
    {
     "data": {
      "text/plain": [
       "'Life is too short'"
      ]
     },
     "execution_count": 9,
     "metadata": {},
     "output_type": "execute_result"
    }
   ],
   "source": [
    "a[:17]"
   ]
  },
  {
   "cell_type": "code",
   "execution_count": 10,
   "id": "18387f1b-e70b-4a23-99ce-c56d9a15da05",
   "metadata": {},
   "outputs": [],
   "source": [
    "##주민등록 번호를 받아서 성별과 관련된 값을 출력하세요"
   ]
  },
  {
   "cell_type": "code",
   "execution_count": 20,
   "id": "c8676825-b624-4caf-a749-d78aed28eedd",
   "metadata": {},
   "outputs": [
    {
     "name": "stdin",
     "output_type": "stream",
     "text": [
      "주민등록번호 >>> 940210-1111111\n"
     ]
    },
    {
     "data": {
      "text/plain": [
       "'1'"
      ]
     },
     "execution_count": 20,
     "metadata": {},
     "output_type": "execute_result"
    }
   ],
   "source": [
    "jumin = input('주민등록번호 >>>')\n",
    "jumin[7]"
   ]
  },
  {
   "cell_type": "code",
   "execution_count": 21,
   "id": "3e9ee57e-eaa5-415c-b791-226296ea7681",
   "metadata": {},
   "outputs": [
    {
     "name": "stdout",
     "output_type": "stream",
     "text": [
      "i eat 3 apples\n"
     ]
    }
   ],
   "source": [
    "print('i eat %d apples' %3)"
   ]
  },
  {
   "cell_type": "code",
   "execution_count": 22,
   "id": "c8a7b7f8-6fdb-4a86-ba7a-f63980710ffc",
   "metadata": {},
   "outputs": [
    {
     "name": "stdout",
     "output_type": "stream",
     "text": [
      "i eat 3 apples\n"
     ]
    }
   ],
   "source": [
    "print('i eat %s apples' %3)"
   ]
  },
  {
   "cell_type": "code",
   "execution_count": 28,
   "id": "75bc6a42-ac37-400c-bd09-678cb0935bf6",
   "metadata": {},
   "outputs": [
    {
     "name": "stdin",
     "output_type": "stream",
     "text": [
      "사과의 수는 >>> 5\n"
     ]
    },
    {
     "name": "stdout",
     "output_type": "stream",
     "text": [
      "i eat 5 apples\n"
     ]
    }
   ],
   "source": [
    "data = input('사과의 수는 >>>')\n",
    "print('i eat %s apples' %data)"
   ]
  },
  {
   "cell_type": "code",
   "execution_count": 38,
   "id": "5889a6ee-3ec9-4eb5-a586-7d0776e74e8f",
   "metadata": {},
   "outputs": [
    {
     "name": "stdout",
     "output_type": "stream",
     "text": [
      " 1 2 3\n"
     ]
    }
   ],
   "source": [
    "print(' %d %d %d'%(1, 2, 3))"
   ]
  },
  {
   "cell_type": "code",
   "execution_count": 58,
   "id": "15622840-e4a8-48ac-b806-aaf1460c5ce3",
   "metadata": {},
   "outputs": [
    {
     "name": "stdout",
     "output_type": "stream",
     "text": [
      "        hi\n"
     ]
    }
   ],
   "source": [
    "print(\"%10s\" % \"hi\")"
   ]
  },
  {
   "cell_type": "code",
   "execution_count": 54,
   "id": "07b52b57-c810-4cb5-b2ee-a56ac504bc02",
   "metadata": {},
   "outputs": [
    {
     "name": "stdout",
     "output_type": "stream",
     "text": [
      "hi        jane\n"
     ]
    }
   ],
   "source": [
    "print(\"%-10sjane\" % \"hi\")"
   ]
  },
  {
   "cell_type": "code",
   "execution_count": 45,
   "id": "ad46d1d3-e396-459f-84cc-66271b2e232e",
   "metadata": {},
   "outputs": [
    {
     "data": {
      "text/plain": [
       "'    3.4123'"
      ]
     },
     "execution_count": 45,
     "metadata": {},
     "output_type": "execute_result"
    }
   ],
   "source": [
    "\"%10.4f\" %3.4123124"
   ]
  },
  {
   "cell_type": "code",
   "execution_count": 51,
   "id": "29609e4f-ef0d-4c34-9116-5636d0202f14",
   "metadata": {},
   "outputs": [
    {
     "data": {
      "text/plain": [
       "'i eat 3 apples hi'"
      ]
     },
     "execution_count": 51,
     "metadata": {},
     "output_type": "execute_result"
    }
   ],
   "source": [
    "'i eat {} apples {}'.format(3,'hi')"
   ]
  },
  {
   "cell_type": "code",
   "execution_count": 52,
   "id": "ae02263d-c1d9-4327-b857-011fc8698677",
   "metadata": {},
   "outputs": [
    {
     "data": {
      "text/plain": [
       "'i eat hi apples 3'"
      ]
     },
     "execution_count": 52,
     "metadata": {},
     "output_type": "execute_result"
    }
   ],
   "source": [
    "'i eat {1} apples {0}'.format(3,'hi')"
   ]
  },
  {
   "cell_type": "code",
   "execution_count": 67,
   "id": "9380f901-0ec6-4129-8520-794c2a8afd9d",
   "metadata": {},
   "outputs": [
    {
     "data": {
      "text/plain": [
       "'i eat     hi     apples 3.00'"
      ]
     },
     "execution_count": 67,
     "metadata": {},
     "output_type": "execute_result"
    }
   ],
   "source": [
    "'i eat {1:^10} apples {0:.2f}'.format(3,'hi')"
   ]
  },
  {
   "cell_type": "code",
   "execution_count": 78,
   "id": "6489a6de-9bd7-405e-8649-24f8a9c6ef2a",
   "metadata": {},
   "outputs": [
    {
     "name": "stdout",
     "output_type": "stream",
     "text": [
      "이름은    홍길동    입니다. 나이는 300,000입니다.\n"
     ]
    }
   ],
   "source": [
    "name = '홍길동'\n",
    "age = 300000\n",
    "print(f'이름은 {name:^10}입니다. 나이는 {age:,}입니다.')"
   ]
  },
  {
   "cell_type": "code",
   "execution_count": 87,
   "id": "2d008a27-a10a-4a4c-a783-0af38b225c8e",
   "metadata": {},
   "outputs": [
    {
     "data": {
      "text/plain": [
       "1"
      ]
     },
     "execution_count": 87,
     "metadata": {},
     "output_type": "execute_result"
    }
   ],
   "source": [
    "a='hobby@co.kr'\n",
    "a.count('@co.kr')"
   ]
  },
  {
   "cell_type": "code",
   "execution_count": 89,
   "id": "bdd40173-b5ef-420b-91fb-03635842ba5e",
   "metadata": {},
   "outputs": [
    {
     "data": {
      "text/plain": [
       "-1"
      ]
     },
     "execution_count": 89,
     "metadata": {},
     "output_type": "execute_result"
    }
   ],
   "source": [
    "a = \"Python is the best choice\"\n",
    "a.find('p')"
   ]
  },
  {
   "cell_type": "code",
   "execution_count": 91,
   "id": "685d567d-0485-4585-8c93-612b08128ec4",
   "metadata": {},
   "outputs": [
    {
     "data": {
      "text/plain": [
       "0"
      ]
     },
     "execution_count": 91,
     "metadata": {},
     "output_type": "execute_result"
    }
   ],
   "source": [
    "a = \"Python is the best choice\"\n",
    "a.index('P')"
   ]
  },
  {
   "cell_type": "code",
   "execution_count": 96,
   "id": "a06f4cac-0b5b-462a-8fbe-c53b99d0bf55",
   "metadata": {},
   "outputs": [
    {
     "data": {
      "text/plain": [
       "'a,b,c'"
      ]
     },
     "execution_count": 96,
     "metadata": {},
     "output_type": "execute_result"
    }
   ],
   "source": [
    "a = ['a','b','c']\n",
    "','.join(a)"
   ]
  },
  {
   "cell_type": "code",
   "execution_count": 98,
   "id": "09328918-3ad3-4ab2-84fe-60609045582b",
   "metadata": {},
   "outputs": [
    {
     "data": {
      "text/plain": [
       "'HI'"
      ]
     },
     "execution_count": 98,
     "metadata": {},
     "output_type": "execute_result"
    }
   ],
   "source": [
    "a = \"hi\"\n",
    "a.upper()"
   ]
  },
  {
   "cell_type": "code",
   "execution_count": 99,
   "id": "1175fc8c-3626-4e83-9e8b-444ade1dea35",
   "metadata": {},
   "outputs": [
    {
     "data": {
      "text/plain": [
       "'hi'"
      ]
     },
     "execution_count": 99,
     "metadata": {},
     "output_type": "execute_result"
    }
   ],
   "source": [
    "a = \"HI\"\n",
    "a.lower()"
   ]
  },
  {
   "cell_type": "code",
   "execution_count": 100,
   "id": "ce60e042-1ecc-4e07-89bf-341b87f6bf34",
   "metadata": {},
   "outputs": [
    {
     "data": {
      "text/plain": [
       "'   a   s'"
      ]
     },
     "execution_count": 100,
     "metadata": {},
     "output_type": "execute_result"
    }
   ],
   "source": [
    "a = '   a   s   '\n",
    "a.rstrip()"
   ]
  },
  {
   "cell_type": "code",
   "execution_count": 101,
   "id": "b5ac4d24-5c8f-4aeb-b9f9-f5c52df818c7",
   "metadata": {},
   "outputs": [
    {
     "data": {
      "text/plain": [
       "'a   s   '"
      ]
     },
     "execution_count": 101,
     "metadata": {},
     "output_type": "execute_result"
    }
   ],
   "source": [
    "a.lstrip()"
   ]
  },
  {
   "cell_type": "code",
   "execution_count": 102,
   "id": "6443f51f-8a20-4f17-850a-c6e420387845",
   "metadata": {},
   "outputs": [
    {
     "data": {
      "text/plain": [
       "'a   s'"
      ]
     },
     "execution_count": 102,
     "metadata": {},
     "output_type": "execute_result"
    }
   ],
   "source": [
    "a.strip()"
   ]
  },
  {
   "cell_type": "code",
   "execution_count": 104,
   "id": "25cde87b-2a2b-47c6-99f2-9cc478536ee4",
   "metadata": {},
   "outputs": [
    {
     "data": {
      "text/plain": [
       "'Your leg is too short'"
      ]
     },
     "execution_count": 104,
     "metadata": {},
     "output_type": "execute_result"
    }
   ],
   "source": [
    "a = \"Life is too short\"\n",
    "a.replace(\"Life\", \"Your leg\")"
   ]
  },
  {
   "cell_type": "code",
   "execution_count": 108,
   "id": "e6c2c46b-12c4-4d31-805c-1a38dbd273a4",
   "metadata": {},
   "outputs": [
    {
     "data": {
      "text/plain": [
       "['Life', 'is', 'too', 'short']"
      ]
     },
     "execution_count": 108,
     "metadata": {},
     "output_type": "execute_result"
    }
   ],
   "source": [
    "a = \"Life is too short\"\n",
    "a.split()"
   ]
  },
  {
   "cell_type": "code",
   "execution_count": 110,
   "id": "42681d9f-e330-49a6-b8e3-9cf39f3f083d",
   "metadata": {},
   "outputs": [
    {
     "name": "stdin",
     "output_type": "stream",
     "text": [
      "숫자입력 fhfh\n"
     ]
    },
    {
     "data": {
      "text/plain": [
       "False"
      ]
     },
     "execution_count": 110,
     "metadata": {},
     "output_type": "execute_result"
    }
   ],
   "source": [
    "value1 = input('숫자입력')\n",
    "value1.isnumeric()"
   ]
  },
  {
   "cell_type": "code",
   "execution_count": 111,
   "id": "9017201d-50d1-40af-ae7f-b897ef70e568",
   "metadata": {},
   "outputs": [
    {
     "name": "stdin",
     "output_type": "stream",
     "text": [
      "숫자입력 1234\n"
     ]
    },
    {
     "data": {
      "text/plain": [
       "True"
      ]
     },
     "execution_count": 111,
     "metadata": {},
     "output_type": "execute_result"
    }
   ],
   "source": [
    "value1 = input('숫자입력')\n",
    "value1.isnumeric()"
   ]
  }
 ],
 "metadata": {
  "kernelspec": {
   "display_name": "Python 3 (ipykernel)",
   "language": "python",
   "name": "python3"
  },
  "language_info": {
   "codemirror_mode": {
    "name": "ipython",
    "version": 3
   },
   "file_extension": ".py",
   "mimetype": "text/x-python",
   "name": "python",
   "nbconvert_exporter": "python",
   "pygments_lexer": "ipython3",
   "version": "3.9.7"
  }
 },
 "nbformat": 4,
 "nbformat_minor": 5
}
