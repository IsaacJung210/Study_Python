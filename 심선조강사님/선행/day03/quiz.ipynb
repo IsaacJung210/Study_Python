{
 "cells": [
  {
   "cell_type": "raw",
   "id": "564b3326-be22-4f18-a2f7-e3a7b6351af8",
   "metadata": {},
   "source": [
    "quiz 01\n",
    "1~100 사이 숫자를 맞추는 게임, 몇 번만에 맞췄는지 게임"
   ]
  },
  {
   "cell_type": "code",
   "execution_count": 311,
   "id": "058cac20-6306-4a47-a857-e68753d6fed4",
   "metadata": {
    "collapsed": true,
    "jupyter": {
     "outputs_hidden": true
    },
    "tags": []
   },
   "outputs": [
    {
     "name": "stdout",
     "output_type": "stream",
     "text": [
      "38\n"
     ]
    },
    {
     "name": "stdin",
     "output_type": "stream",
     "text": [
      "숫자를 입력하세요 : 5\n"
     ]
    },
    {
     "name": "stdout",
     "output_type": "stream",
     "text": [
      "더 큰 수 입니다.\n"
     ]
    },
    {
     "ename": "KeyboardInterrupt",
     "evalue": "Interrupted by user",
     "output_type": "error",
     "traceback": [
      "\u001b[1;31m---------------------------------------------------------------------------\u001b[0m",
      "\u001b[1;31mKeyboardInterrupt\u001b[0m                         Traceback (most recent call last)",
      "\u001b[1;32m~\\AppData\\Local\\Temp/ipykernel_10440/2053499283.py\u001b[0m in \u001b[0;36m<module>\u001b[1;34m\u001b[0m\n\u001b[0;32m      4\u001b[0m \u001b[1;33m\u001b[0m\u001b[0m\n\u001b[0;32m      5\u001b[0m \u001b[1;32mwhile\u001b[0m \u001b[1;32mTrue\u001b[0m\u001b[1;33m:\u001b[0m\u001b[1;33m\u001b[0m\u001b[1;33m\u001b[0m\u001b[0m\n\u001b[1;32m----> 6\u001b[1;33m     \u001b[0mguess\u001b[0m \u001b[1;33m=\u001b[0m \u001b[0mint\u001b[0m\u001b[1;33m(\u001b[0m\u001b[0minput\u001b[0m\u001b[1;33m(\u001b[0m\u001b[1;34m'숫자를 입력하세요 :'\u001b[0m\u001b[1;33m)\u001b[0m\u001b[1;33m)\u001b[0m\u001b[1;33m\u001b[0m\u001b[1;33m\u001b[0m\u001b[0m\n\u001b[0m\u001b[0;32m      7\u001b[0m     \u001b[1;32mif\u001b[0m \u001b[0mguess\u001b[0m \u001b[1;33m==\u001b[0m \u001b[0mnumber\u001b[0m\u001b[1;33m:\u001b[0m\u001b[1;33m\u001b[0m\u001b[1;33m\u001b[0m\u001b[0m\n\u001b[0;32m      8\u001b[0m         \u001b[0mprint\u001b[0m\u001b[1;33m(\u001b[0m\u001b[1;34m'정답입니다'\u001b[0m\u001b[1;33m)\u001b[0m\u001b[1;33m\u001b[0m\u001b[1;33m\u001b[0m\u001b[0m\n",
      "\u001b[1;32m~\\anaconda3\\lib\\site-packages\\ipykernel\\kernelbase.py\u001b[0m in \u001b[0;36mraw_input\u001b[1;34m(self, prompt)\u001b[0m\n\u001b[0;32m   1004\u001b[0m                 \u001b[1;34m\"raw_input was called, but this frontend does not support input requests.\"\u001b[0m\u001b[1;33m\u001b[0m\u001b[1;33m\u001b[0m\u001b[0m\n\u001b[0;32m   1005\u001b[0m             )\n\u001b[1;32m-> 1006\u001b[1;33m         return self._input_request(\n\u001b[0m\u001b[0;32m   1007\u001b[0m             \u001b[0mstr\u001b[0m\u001b[1;33m(\u001b[0m\u001b[0mprompt\u001b[0m\u001b[1;33m)\u001b[0m\u001b[1;33m,\u001b[0m\u001b[1;33m\u001b[0m\u001b[1;33m\u001b[0m\u001b[0m\n\u001b[0;32m   1008\u001b[0m             \u001b[0mself\u001b[0m\u001b[1;33m.\u001b[0m\u001b[0m_parent_ident\u001b[0m\u001b[1;33m[\u001b[0m\u001b[1;34m\"shell\"\u001b[0m\u001b[1;33m]\u001b[0m\u001b[1;33m,\u001b[0m\u001b[1;33m\u001b[0m\u001b[1;33m\u001b[0m\u001b[0m\n",
      "\u001b[1;32m~\\anaconda3\\lib\\site-packages\\ipykernel\\kernelbase.py\u001b[0m in \u001b[0;36m_input_request\u001b[1;34m(self, prompt, ident, parent, password)\u001b[0m\n\u001b[0;32m   1049\u001b[0m             \u001b[1;32mexcept\u001b[0m \u001b[0mKeyboardInterrupt\u001b[0m\u001b[1;33m:\u001b[0m\u001b[1;33m\u001b[0m\u001b[1;33m\u001b[0m\u001b[0m\n\u001b[0;32m   1050\u001b[0m                 \u001b[1;31m# re-raise KeyboardInterrupt, to truncate traceback\u001b[0m\u001b[1;33m\u001b[0m\u001b[1;33m\u001b[0m\u001b[0m\n\u001b[1;32m-> 1051\u001b[1;33m                 \u001b[1;32mraise\u001b[0m \u001b[0mKeyboardInterrupt\u001b[0m\u001b[1;33m(\u001b[0m\u001b[1;34m\"Interrupted by user\"\u001b[0m\u001b[1;33m)\u001b[0m \u001b[1;32mfrom\u001b[0m \u001b[1;32mNone\u001b[0m\u001b[1;33m\u001b[0m\u001b[1;33m\u001b[0m\u001b[0m\n\u001b[0m\u001b[0;32m   1052\u001b[0m             \u001b[1;32mexcept\u001b[0m \u001b[0mException\u001b[0m\u001b[1;33m:\u001b[0m\u001b[1;33m\u001b[0m\u001b[1;33m\u001b[0m\u001b[0m\n\u001b[0;32m   1053\u001b[0m                 \u001b[0mself\u001b[0m\u001b[1;33m.\u001b[0m\u001b[0mlog\u001b[0m\u001b[1;33m.\u001b[0m\u001b[0mwarning\u001b[0m\u001b[1;33m(\u001b[0m\u001b[1;34m\"Invalid Message:\"\u001b[0m\u001b[1;33m,\u001b[0m \u001b[0mexc_info\u001b[0m\u001b[1;33m=\u001b[0m\u001b[1;32mTrue\u001b[0m\u001b[1;33m)\u001b[0m\u001b[1;33m\u001b[0m\u001b[1;33m\u001b[0m\u001b[0m\n",
      "\u001b[1;31mKeyboardInterrupt\u001b[0m: Interrupted by user"
     ]
    }
   ],
   "source": [
    "import random\n",
    "number = random.randint(1,100)  \n",
    "print(number)\n",
    " \n",
    "while True:\n",
    "    guess = int(input('숫자를 입력하세요 :'))\n",
    "    if guess == number:\n",
    "        print('정답입니다')\n",
    "        break\n",
    "    elif guess > number:\n",
    "        print('더 작은 수 입니다')\n",
    "    else:\n",
    "        print('더 큰 수 입니다.')"
   ]
  },
  {
   "cell_type": "code",
   "execution_count": 325,
   "id": "73b406b3-cc1f-44b4-a51d-eeab820ac18f",
   "metadata": {
    "collapsed": true,
    "jupyter": {
     "outputs_hidden": true
    },
    "tags": []
   },
   "outputs": [
    {
     "name": "stdout",
     "output_type": "stream",
     "text": [
      "정답 32\n"
     ]
    },
    {
     "name": "stdin",
     "output_type": "stream",
     "text": [
      "숫자를 입력하세요 >> ㅇ\n"
     ]
    },
    {
     "name": "stdout",
     "output_type": "stream",
     "text": [
      "숫자가 아닙니다. 숫자를 입력하세요.\n"
     ]
    },
    {
     "ename": "KeyboardInterrupt",
     "evalue": "Interrupted by user",
     "output_type": "error",
     "traceback": [
      "\u001b[1;31m---------------------------------------------------------------------------\u001b[0m",
      "\u001b[1;31mKeyboardInterrupt\u001b[0m                         Traceback (most recent call last)",
      "\u001b[1;32m~\\AppData\\Local\\Temp/ipykernel_10440/2363728374.py\u001b[0m in \u001b[0;36m<module>\u001b[1;34m\u001b[0m\n\u001b[0;32m      3\u001b[0m \u001b[0mprint\u001b[0m\u001b[1;33m(\u001b[0m\u001b[1;34mf'정답 {com}'\u001b[0m\u001b[1;33m)\u001b[0m\u001b[1;33m\u001b[0m\u001b[1;33m\u001b[0m\u001b[0m\n\u001b[0;32m      4\u001b[0m \u001b[1;32mwhile\u001b[0m \u001b[1;32mTrue\u001b[0m\u001b[1;33m:\u001b[0m\u001b[1;33m\u001b[0m\u001b[1;33m\u001b[0m\u001b[0m\n\u001b[1;32m----> 5\u001b[1;33m     \u001b[0minput_no\u001b[0m \u001b[1;33m=\u001b[0m \u001b[0minput\u001b[0m\u001b[1;33m(\u001b[0m\u001b[1;34m'숫자를 입력하세요 >>'\u001b[0m\u001b[1;33m)\u001b[0m\u001b[1;33m\u001b[0m\u001b[1;33m\u001b[0m\u001b[0m\n\u001b[0m\u001b[0;32m      6\u001b[0m     \u001b[1;32mif\u001b[0m \u001b[1;32mnot\u001b[0m \u001b[0minput_no\u001b[0m\u001b[1;33m.\u001b[0m\u001b[0misnumeric\u001b[0m\u001b[1;33m(\u001b[0m\u001b[1;33m)\u001b[0m\u001b[1;33m:\u001b[0m\u001b[1;33m\u001b[0m\u001b[1;33m\u001b[0m\u001b[0m\n\u001b[0;32m      7\u001b[0m         \u001b[0mprint\u001b[0m\u001b[1;33m(\u001b[0m\u001b[1;34m'숫자가 아닙니다. 숫자를 입력하세요.'\u001b[0m\u001b[1;33m)\u001b[0m\u001b[1;33m\u001b[0m\u001b[1;33m\u001b[0m\u001b[0m\n",
      "\u001b[1;32m~\\anaconda3\\lib\\site-packages\\ipykernel\\kernelbase.py\u001b[0m in \u001b[0;36mraw_input\u001b[1;34m(self, prompt)\u001b[0m\n\u001b[0;32m   1004\u001b[0m                 \u001b[1;34m\"raw_input was called, but this frontend does not support input requests.\"\u001b[0m\u001b[1;33m\u001b[0m\u001b[1;33m\u001b[0m\u001b[0m\n\u001b[0;32m   1005\u001b[0m             )\n\u001b[1;32m-> 1006\u001b[1;33m         return self._input_request(\n\u001b[0m\u001b[0;32m   1007\u001b[0m             \u001b[0mstr\u001b[0m\u001b[1;33m(\u001b[0m\u001b[0mprompt\u001b[0m\u001b[1;33m)\u001b[0m\u001b[1;33m,\u001b[0m\u001b[1;33m\u001b[0m\u001b[1;33m\u001b[0m\u001b[0m\n\u001b[0;32m   1008\u001b[0m             \u001b[0mself\u001b[0m\u001b[1;33m.\u001b[0m\u001b[0m_parent_ident\u001b[0m\u001b[1;33m[\u001b[0m\u001b[1;34m\"shell\"\u001b[0m\u001b[1;33m]\u001b[0m\u001b[1;33m,\u001b[0m\u001b[1;33m\u001b[0m\u001b[1;33m\u001b[0m\u001b[0m\n",
      "\u001b[1;32m~\\anaconda3\\lib\\site-packages\\ipykernel\\kernelbase.py\u001b[0m in \u001b[0;36m_input_request\u001b[1;34m(self, prompt, ident, parent, password)\u001b[0m\n\u001b[0;32m   1049\u001b[0m             \u001b[1;32mexcept\u001b[0m \u001b[0mKeyboardInterrupt\u001b[0m\u001b[1;33m:\u001b[0m\u001b[1;33m\u001b[0m\u001b[1;33m\u001b[0m\u001b[0m\n\u001b[0;32m   1050\u001b[0m                 \u001b[1;31m# re-raise KeyboardInterrupt, to truncate traceback\u001b[0m\u001b[1;33m\u001b[0m\u001b[1;33m\u001b[0m\u001b[0m\n\u001b[1;32m-> 1051\u001b[1;33m                 \u001b[1;32mraise\u001b[0m \u001b[0mKeyboardInterrupt\u001b[0m\u001b[1;33m(\u001b[0m\u001b[1;34m\"Interrupted by user\"\u001b[0m\u001b[1;33m)\u001b[0m \u001b[1;32mfrom\u001b[0m \u001b[1;32mNone\u001b[0m\u001b[1;33m\u001b[0m\u001b[1;33m\u001b[0m\u001b[0m\n\u001b[0m\u001b[0;32m   1052\u001b[0m             \u001b[1;32mexcept\u001b[0m \u001b[0mException\u001b[0m\u001b[1;33m:\u001b[0m\u001b[1;33m\u001b[0m\u001b[1;33m\u001b[0m\u001b[0m\n\u001b[0;32m   1053\u001b[0m                 \u001b[0mself\u001b[0m\u001b[1;33m.\u001b[0m\u001b[0mlog\u001b[0m\u001b[1;33m.\u001b[0m\u001b[0mwarning\u001b[0m\u001b[1;33m(\u001b[0m\u001b[1;34m\"Invalid Message:\"\u001b[0m\u001b[1;33m,\u001b[0m \u001b[0mexc_info\u001b[0m\u001b[1;33m=\u001b[0m\u001b[1;32mTrue\u001b[0m\u001b[1;33m)\u001b[0m\u001b[1;33m\u001b[0m\u001b[1;33m\u001b[0m\u001b[0m\n",
      "\u001b[1;31mKeyboardInterrupt\u001b[0m: Interrupted by user"
     ]
    },
    {
     "name": "stdin",
     "output_type": "stream",
     "text": [
      "숫자를 입력하세요 >> 5\n"
     ]
    }
   ],
   "source": [
    "com = random.randint(1,100)\n",
    "count = 0\n",
    "print(f'정답 {com}')\n",
    "while True:\n",
    "    input_no = input('숫자를 입력하세요 >>')\n",
    "    if not input_no.isnumeric():\n",
    "        print('숫자가 아닙니다. 숫자를 입력하세요.')\n",
    "        continue\n",
    "    count += 1\n",
    "    input_no = int(input_no)\n",
    "    if com == input_no:\n",
    "        print(f'정답입니다. {count}번만에 맞추셨습니다.')\n",
    "        break\n",
    "    elif com > input_no :\n",
    "        print(f'{count}번째 시도 - 더 큰 수를 입력하세요')\n",
    "    else:\n",
    "        print(f'{count}번째 시도 - 더 작은 수를 입력하세요')"
   ]
  },
  {
   "cell_type": "raw",
   "id": "acabac18-bfd1-41a0-8524-848fe282c66b",
   "metadata": {},
   "source": [
    "quiz 02 사칙연산 계산기\n",
    "입력은 : 숫자 연산자 숫자 (빈 문자열이 들어오면 프로그램을 종료함, 그 전까지는 무한 반복)\n",
    "연산자는 +-*/만 가능"
   ]
  },
  {
   "cell_type": "code",
   "execution_count": 341,
   "id": "9f863bdc-45d5-4963-8ea7-155dd747307c",
   "metadata": {
    "collapsed": true,
    "jupyter": {
     "outputs_hidden": true
    },
    "tags": []
   },
   "outputs": [
    {
     "name": "stdin",
     "output_type": "stream",
     "text": [
      "number1: 5\n",
      "number2: 5\n",
      "연산자: *\n"
     ]
    },
    {
     "name": "stdout",
     "output_type": "stream",
     "text": [
      "계산값은 25 입니다.\n"
     ]
    },
    {
     "ename": "KeyboardInterrupt",
     "evalue": "Interrupted by user",
     "output_type": "error",
     "traceback": [
      "\u001b[1;31m---------------------------------------------------------------------------\u001b[0m",
      "\u001b[1;31mKeyboardInterrupt\u001b[0m                         Traceback (most recent call last)",
      "\u001b[1;32m~\\AppData\\Local\\Temp/ipykernel_10440/893576893.py\u001b[0m in \u001b[0;36m<module>\u001b[1;34m\u001b[0m\n\u001b[0;32m      1\u001b[0m \u001b[1;32mwhile\u001b[0m \u001b[1;32mTrue\u001b[0m\u001b[1;33m:\u001b[0m\u001b[1;33m\u001b[0m\u001b[1;33m\u001b[0m\u001b[0m\n\u001b[1;32m----> 2\u001b[1;33m     \u001b[0ma\u001b[0m \u001b[1;33m=\u001b[0m \u001b[0mint\u001b[0m\u001b[1;33m(\u001b[0m\u001b[0minput\u001b[0m\u001b[1;33m(\u001b[0m\u001b[1;34m'number1:'\u001b[0m\u001b[1;33m)\u001b[0m\u001b[1;33m)\u001b[0m\u001b[1;33m\u001b[0m\u001b[1;33m\u001b[0m\u001b[0m\n\u001b[0m\u001b[0;32m      3\u001b[0m     \u001b[0mb\u001b[0m \u001b[1;33m=\u001b[0m \u001b[0mint\u001b[0m\u001b[1;33m(\u001b[0m\u001b[0minput\u001b[0m\u001b[1;33m(\u001b[0m\u001b[1;34m'number2:'\u001b[0m\u001b[1;33m)\u001b[0m\u001b[1;33m)\u001b[0m\u001b[1;33m\u001b[0m\u001b[1;33m\u001b[0m\u001b[0m\n\u001b[0;32m      4\u001b[0m     \u001b[1;32mif\u001b[0m \u001b[0ma\u001b[0m\u001b[1;33m==\u001b[0m\u001b[0mb\u001b[0m\u001b[1;33m==\u001b[0m\u001b[1;36m0\u001b[0m\u001b[1;33m:\u001b[0m\u001b[1;33m\u001b[0m\u001b[1;33m\u001b[0m\u001b[0m\n\u001b[0;32m      5\u001b[0m         \u001b[0mprint\u001b[0m\u001b[1;33m(\u001b[0m\u001b[1;34m'종료합니다.'\u001b[0m\u001b[1;33m)\u001b[0m\u001b[1;33m\u001b[0m\u001b[1;33m\u001b[0m\u001b[0m\n",
      "\u001b[1;32m~\\anaconda3\\lib\\site-packages\\ipykernel\\kernelbase.py\u001b[0m in \u001b[0;36mraw_input\u001b[1;34m(self, prompt)\u001b[0m\n\u001b[0;32m   1004\u001b[0m                 \u001b[1;34m\"raw_input was called, but this frontend does not support input requests.\"\u001b[0m\u001b[1;33m\u001b[0m\u001b[1;33m\u001b[0m\u001b[0m\n\u001b[0;32m   1005\u001b[0m             )\n\u001b[1;32m-> 1006\u001b[1;33m         return self._input_request(\n\u001b[0m\u001b[0;32m   1007\u001b[0m             \u001b[0mstr\u001b[0m\u001b[1;33m(\u001b[0m\u001b[0mprompt\u001b[0m\u001b[1;33m)\u001b[0m\u001b[1;33m,\u001b[0m\u001b[1;33m\u001b[0m\u001b[1;33m\u001b[0m\u001b[0m\n\u001b[0;32m   1008\u001b[0m             \u001b[0mself\u001b[0m\u001b[1;33m.\u001b[0m\u001b[0m_parent_ident\u001b[0m\u001b[1;33m[\u001b[0m\u001b[1;34m\"shell\"\u001b[0m\u001b[1;33m]\u001b[0m\u001b[1;33m,\u001b[0m\u001b[1;33m\u001b[0m\u001b[1;33m\u001b[0m\u001b[0m\n",
      "\u001b[1;32m~\\anaconda3\\lib\\site-packages\\ipykernel\\kernelbase.py\u001b[0m in \u001b[0;36m_input_request\u001b[1;34m(self, prompt, ident, parent, password)\u001b[0m\n\u001b[0;32m   1049\u001b[0m             \u001b[1;32mexcept\u001b[0m \u001b[0mKeyboardInterrupt\u001b[0m\u001b[1;33m:\u001b[0m\u001b[1;33m\u001b[0m\u001b[1;33m\u001b[0m\u001b[0m\n\u001b[0;32m   1050\u001b[0m                 \u001b[1;31m# re-raise KeyboardInterrupt, to truncate traceback\u001b[0m\u001b[1;33m\u001b[0m\u001b[1;33m\u001b[0m\u001b[0m\n\u001b[1;32m-> 1051\u001b[1;33m                 \u001b[1;32mraise\u001b[0m \u001b[0mKeyboardInterrupt\u001b[0m\u001b[1;33m(\u001b[0m\u001b[1;34m\"Interrupted by user\"\u001b[0m\u001b[1;33m)\u001b[0m \u001b[1;32mfrom\u001b[0m \u001b[1;32mNone\u001b[0m\u001b[1;33m\u001b[0m\u001b[1;33m\u001b[0m\u001b[0m\n\u001b[0m\u001b[0;32m   1052\u001b[0m             \u001b[1;32mexcept\u001b[0m \u001b[0mException\u001b[0m\u001b[1;33m:\u001b[0m\u001b[1;33m\u001b[0m\u001b[1;33m\u001b[0m\u001b[0m\n\u001b[0;32m   1053\u001b[0m                 \u001b[0mself\u001b[0m\u001b[1;33m.\u001b[0m\u001b[0mlog\u001b[0m\u001b[1;33m.\u001b[0m\u001b[0mwarning\u001b[0m\u001b[1;33m(\u001b[0m\u001b[1;34m\"Invalid Message:\"\u001b[0m\u001b[1;33m,\u001b[0m \u001b[0mexc_info\u001b[0m\u001b[1;33m=\u001b[0m\u001b[1;32mTrue\u001b[0m\u001b[1;33m)\u001b[0m\u001b[1;33m\u001b[0m\u001b[1;33m\u001b[0m\u001b[0m\n",
      "\u001b[1;31mKeyboardInterrupt\u001b[0m: Interrupted by user"
     ]
    },
    {
     "name": "stdin",
     "output_type": "stream",
     "text": [
      "number1: d\n"
     ]
    }
   ],
   "source": [
    "while True:\n",
    "    a = int(input('number1:'))\n",
    "    b = int(input('number2:'))\n",
    "    if a==b==0:\n",
    "        print('종료합니다.')\n",
    "    c=input('연산자:')\n",
    "    if c=='*':\n",
    "        d=a*b\n",
    "        print('계산값은',d,'입니다.')\n",
    "        continue\n",
    "    if c=='-':\n",
    "        d=a-b\n",
    "        print('계산값은',d,'입니다.')\n",
    "        continue\n",
    "    if c=='+':\n",
    "        d=a+b\n",
    "        print('계산값은',d,'입니다.')\n",
    "        continue\n",
    "    if c=='/':\n",
    "        d=a/b\n",
    "        print('계산값은',d,'입니다.')\n",
    "        continue\n",
    "    if c!='+' or c!='-' or c!='*' or c!='/': \n",
    "        print('연산자를 다시 입력하세요.')\n",
    "        continue\n",
    "    else:\n",
    "        print(\"잘못 입력하셨습니다. 종료합니다.\")\n",
    "        break"
   ]
  },
  {
   "cell_type": "code",
   "execution_count": 349,
   "id": "e967d5ba-4b12-44aa-8881-ecbc7fab6be5",
   "metadata": {
    "collapsed": true,
    "jupyter": {
     "outputs_hidden": true
    },
    "tags": []
   },
   "outputs": [
    {
     "name": "stdin",
     "output_type": "stream",
     "text": [
      "계산식 입력(1 + 1) >>> (공백:종료) 2 * 4\n"
     ]
    },
    {
     "name": "stdout",
     "output_type": "stream",
     "text": [
      "8\n"
     ]
    },
    {
     "name": "stdin",
     "output_type": "stream",
     "text": [
      "계산식 입력(1 + 1) >>> (공백:종료) 24 * 51\n"
     ]
    },
    {
     "name": "stdout",
     "output_type": "stream",
     "text": [
      "1224\n"
     ]
    },
    {
     "name": "stdin",
     "output_type": "stream",
     "text": [
      "계산식 입력(1 + 1) >>> (공백:종료) 24*24\n"
     ]
    },
    {
     "name": "stdout",
     "output_type": "stream",
     "text": [
      "입력이 올바르지 않습니다.\n"
     ]
    },
    {
     "name": "stdin",
     "output_type": "stream",
     "text": [
      "계산식 입력(1 + 1) >>> (공백:종료) \n"
     ]
    },
    {
     "name": "stdout",
     "output_type": "stream",
     "text": [
      "프로그램 종료\n"
     ]
    }
   ],
   "source": [
    "while True:\n",
    "    user_input = input('계산식 입력(1 + 1) >>> (공백:종료)')\n",
    "    if user_input == '':\n",
    "        print('프로그램 종료')\n",
    "        break\n",
    "    else:\n",
    "        quiz = user_input.split()\n",
    "        if len(quiz)==3:\n",
    "            x = int(quiz[0])\n",
    "            y = int(quiz[2])\n",
    "            if quiz[1] == '+':\n",
    "                print(x+y)\n",
    "            elif quiz[1] == '-':\n",
    "                print(x-y)\n",
    "            elif quiz[1] == '*':\n",
    "                print(x*y)\n",
    "            elif quiz[1] == '/':\n",
    "                print(x/y)\n",
    "        else:\n",
    "            print('입력이 올바르지 않습니다.')"
   ]
  },
  {
   "cell_type": "code",
   "execution_count": 355,
   "id": "5eabb37a-d41b-4180-b92a-170f9e74cd5d",
   "metadata": {
    "collapsed": true,
    "jupyter": {
     "outputs_hidden": true
    },
    "tags": []
   },
   "outputs": [
    {
     "name": "stdin",
     "output_type": "stream",
     "text": [
      "계산식 입력(1 + 1) >>> (공백:종료) \n"
     ]
    },
    {
     "name": "stdout",
     "output_type": "stream",
     "text": [
      "프로그램 종료\n"
     ]
    }
   ],
   "source": [
    "while True:\n",
    "    user_input = input('계산식 입력(1 + 1) >>> (공백:종료)')\n",
    "    if user_input == '':\n",
    "        print('프로그램 종료')\n",
    "        break\n",
    "    else:\n",
    "        print(eval(user_input))"
   ]
  },
  {
   "cell_type": "raw",
   "id": "e13a8ef3-ba01-4622-a857-aa8f975686a4",
   "metadata": {},
   "source": [
    "quiz 03 시간체크"
   ]
  },
  {
   "cell_type": "code",
   "execution_count": 356,
   "id": "0fefb557-8f98-4493-816d-16c208ab0c44",
   "metadata": {},
   "outputs": [],
   "source": [
    "import time"
   ]
  },
  {
   "cell_type": "code",
   "execution_count": 366,
   "id": "83627f59-f806-4331-a77a-aae39f6f738e",
   "metadata": {},
   "outputs": [],
   "source": [
    "time1 = time.time()"
   ]
  },
  {
   "cell_type": "code",
   "execution_count": 367,
   "id": "c89c0705-b754-4d6e-9f8b-2c85ddeeec5f",
   "metadata": {},
   "outputs": [],
   "source": [
    "time2 = time.time()"
   ]
  },
  {
   "cell_type": "code",
   "execution_count": 374,
   "id": "2bf42ce5-eca2-48c1-8f69-f94bdd8c27fb",
   "metadata": {},
   "outputs": [
    {
     "data": {
      "text/plain": [
       "167.90506291389465"
      ]
     },
     "execution_count": 374,
     "metadata": {},
     "output_type": "execute_result"
    }
   ],
   "source": [
    "time2 - time1"
   ]
  },
  {
   "cell_type": "code",
   "execution_count": 376,
   "id": "c6d089b6-68bd-4a8c-93d1-86467779d309",
   "metadata": {},
   "outputs": [],
   "source": [
    "#시간차이 5초에 근접하기\n",
    "#게임은 enter키를 입력하면 시작하고 5초 후에 enter을 입력해서 5초와 차이를 출력한다."
   ]
  },
  {
   "cell_type": "code",
   "execution_count": 391,
   "id": "2fee4864-9d4a-433d-b164-734eb0c34889",
   "metadata": {
    "collapsed": true,
    "jupyter": {
     "outputs_hidden": true
    },
    "tags": []
   },
   "outputs": [
    {
     "name": "stdin",
     "output_type": "stream",
     "text": [
      "5초를 예측해보세요. (enter키를 누르면 시작입니다.) \n",
      "시작!! 5초 후 enter를 누르세요. \n"
     ]
    },
    {
     "name": "stdout",
     "output_type": "stream",
     "text": [
      "0.3038151264190674\n"
     ]
    }
   ],
   "source": [
    "import time\n",
    "time1 = input(\"5초를 예측해보세요. (enter키를 누르면 시작입니다.)\")\n",
    "if time1 == '':\n",
    "    time1 = time.time()\n",
    "    time2 = input('시작!! 5초 후 enter를 누르세요.')\n",
    "if time2 == '':\n",
    "    time2 = time.time()\n",
    "    print(time2 - time1)"
   ]
  },
  {
   "cell_type": "code",
   "execution_count": 396,
   "id": "0ed23f63-2253-4add-9ba6-1e82828580e1",
   "metadata": {
    "collapsed": true,
    "jupyter": {
     "outputs_hidden": true
    },
    "tags": []
   },
   "outputs": [
    {
     "name": "stdin",
     "output_type": "stream",
     "text": [
      "시작 \n",
      "5초후 enter \n"
     ]
    },
    {
     "name": "stdout",
     "output_type": "stream",
     "text": [
      "3.7초 차이\n"
     ]
    }
   ],
   "source": [
    "input('시작')\n",
    "start = time.time()\n",
    "input('5초후 enter')\n",
    "end = time.time()\n",
    "print(f'{abs(end-start):.1f}초 차이')"
   ]
  },
  {
   "cell_type": "code",
   "execution_count": 398,
   "id": "980d64fd-7f00-47a3-a015-4f9fd177c8bd",
   "metadata": {},
   "outputs": [],
   "source": [
    "#시간차이 5초에 근접하기\n",
    "#게임은 enter키를 입력하면 시작하고 5초 후에 enter을 입력해서 5초와 차이를 출력한다.\n",
    "#원하는 만큼 시도할 수 있고, 그 중에서 시간차가 작은 기록을 출력한다.\n",
    "#q를 입력하면 종료"
   ]
  },
  {
   "cell_type": "code",
   "execution_count": 417,
   "id": "4dbe3fd8-9c6f-4108-be13-2dc99007dabc",
   "metadata": {
    "tags": []
   },
   "outputs": [
    {
     "name": "stdin",
     "output_type": "stream",
     "text": [
      "1번째 시도 : 시작! (종료:Q) \n",
      "5초후 enter를 누릅니다. \n",
      "2번째 시도 : 시작! (종료:Q) q\n"
     ]
    },
    {
     "name": "stdout",
     "output_type": "stream",
     "text": [
      "게임을 종료합니다.\n",
      "시간: [0.2082383632659912]\n",
      "시간차이: [4.791761636734009]\n",
      "최고기록(시간) : 0.2082383632659912\n",
      "최고기록(시간차이) : 4.791761636734009\n"
     ]
    }
   ],
   "source": [
    "time_diff=[]\n",
    "count = 0\n",
    "while True:\n",
    "    count += 1\n",
    "    menu = input(str(count)+'번째 시도 : 시작! (종료:Q)')\n",
    "    if menu.upper() == 'Q':\n",
    "        print('게임을 종료합니다.')\n",
    "        break\n",
    "    start = time.time()\n",
    "    input('5초후 enter를 누릅니다.')\n",
    "    end = time.time()\n",
    "    time_diff.append(end-start)\n",
    "if len(time_diff) == 0:\n",
    "    print('저장된 정보가 없습니다.')\n",
    "else:\n",
    "    print('시간:', time_diff)\n",
    "    time_diff1 = [data-5 for data in time_diff]\n",
    "    result = list(map(abs,time_diff1))\n",
    "    print('시간차이:',result)\n",
    "    index = result.index(min(result))\n",
    "    print(f'최고기록(시간) : {time_diff[index]}')\n",
    "    print(f'최고기록(시간차이) : {result[index]}')"
   ]
  },
  {
   "cell_type": "raw",
   "id": "e3d0d016-c9eb-42e6-9294-477f15602909",
   "metadata": {},
   "source": [
    "quiz 04 사칙연산 맞추기\n",
    "컴퓨터가 랜덤으로 사직연산 문제를 출제하면 답을 맞추면 됩니다.\n",
    "이때 나누기 문제는 정수로 변화해서 처리합니다.\n",
    "문제 출제는 총 5문제가 출제되고 끝나면 맞춘 문제수를 출력합니다."
   ]
  },
  {
   "cell_type": "code",
   "execution_count": 456,
   "id": "f5398c65-c9b5-44bc-8d3a-e00bd2940de4",
   "metadata": {
    "collapsed": true,
    "jupyter": {
     "outputs_hidden": true
    },
    "tags": []
   },
   "outputs": [
    {
     "name": "stdout",
     "output_type": "stream",
     "text": [
      "35-5 =\n"
     ]
    },
    {
     "name": "stdin",
     "output_type": "stream",
     "text": [
      "정답 >>> \n"
     ]
    },
    {
     "ename": "ValueError",
     "evalue": "invalid literal for int() with base 10: ''",
     "output_type": "error",
     "traceback": [
      "\u001b[1;31m---------------------------------------------------------------------------\u001b[0m",
      "\u001b[1;31mValueError\u001b[0m                                Traceback (most recent call last)",
      "\u001b[1;32m~\\AppData\\Local\\Temp/ipykernel_10440/2483063276.py\u001b[0m in \u001b[0;36m<module>\u001b[1;34m\u001b[0m\n\u001b[0;32m     10\u001b[0m     \u001b[0mquiz\u001b[0m \u001b[1;33m=\u001b[0m \u001b[0mstr\u001b[0m\u001b[1;33m(\u001b[0m\u001b[0ma\u001b[0m\u001b[1;33m)\u001b[0m \u001b[1;33m+\u001b[0m \u001b[0mop\u001b[0m \u001b[1;33m+\u001b[0m \u001b[0mstr\u001b[0m\u001b[1;33m(\u001b[0m\u001b[0mb\u001b[0m\u001b[1;33m)\u001b[0m\u001b[1;33m\u001b[0m\u001b[1;33m\u001b[0m\u001b[0m\n\u001b[0;32m     11\u001b[0m     \u001b[0mprint\u001b[0m\u001b[1;33m(\u001b[0m\u001b[0mquiz\u001b[0m\u001b[1;33m,\u001b[0m\u001b[1;34m'='\u001b[0m\u001b[1;33m)\u001b[0m\u001b[1;33m\u001b[0m\u001b[1;33m\u001b[0m\u001b[0m\n\u001b[1;32m---> 12\u001b[1;33m     \u001b[0mresult\u001b[0m \u001b[1;33m=\u001b[0m \u001b[0mint\u001b[0m\u001b[1;33m(\u001b[0m\u001b[0minput\u001b[0m\u001b[1;33m(\u001b[0m\u001b[1;34m'정답 >>>'\u001b[0m\u001b[1;33m)\u001b[0m\u001b[1;33m)\u001b[0m\u001b[1;33m\u001b[0m\u001b[1;33m\u001b[0m\u001b[0m\n\u001b[0m\u001b[0;32m     13\u001b[0m     \u001b[1;32mif\u001b[0m \u001b[0mint\u001b[0m\u001b[1;33m(\u001b[0m\u001b[0meval\u001b[0m\u001b[1;33m(\u001b[0m\u001b[0mquiz\u001b[0m\u001b[1;33m)\u001b[0m\u001b[1;33m)\u001b[0m \u001b[1;33m==\u001b[0m \u001b[0mresult\u001b[0m\u001b[1;33m:\u001b[0m\u001b[1;33m\u001b[0m\u001b[1;33m\u001b[0m\u001b[0m\n\u001b[0;32m     14\u001b[0m         \u001b[0mprint\u001b[0m\u001b[1;33m(\u001b[0m\u001b[1;34m'정답입니다.'\u001b[0m\u001b[1;33m)\u001b[0m\u001b[1;33m\u001b[0m\u001b[1;33m\u001b[0m\u001b[0m\n",
      "\u001b[1;31mValueError\u001b[0m: invalid literal for int() with base 10: ''"
     ]
    }
   ],
   "source": [
    "import random, time\n",
    "\n",
    "oper = ['+','-','*','/']\n",
    "count = 0\n",
    "\n",
    "for i in range(5):\n",
    "    a = random.randint(1,50)\n",
    "    b = random.randint(1,50)\n",
    "    op = random.choice(oper)\n",
    "    quiz = str(a) + op + str(b)\n",
    "    print(quiz,'=')\n",
    "    result = int(input('정답 >>>'))\n",
    "    if int(eval(quiz)) == result:\n",
    "        print('정답입니다.')\n",
    "        count += 1\n",
    "    else:\n",
    "        print('오답입니다.')\n",
    "print(count,'개 정답입니다.')"
   ]
  },
  {
   "cell_type": "code",
   "execution_count": 497,
   "id": "acc35dd6-bb7f-48b9-8dbc-cfd219e3629d",
   "metadata": {},
   "outputs": [],
   "source": [
    "data1 = [1,3,6,2,8,5]\n",
    "data2 = ['b','u','a','c']"
   ]
  },
  {
   "cell_type": "code",
   "execution_count": 499,
   "id": "e0a701c5-1f98-491c-a09b-f15588eac454",
   "metadata": {},
   "outputs": [
    {
     "data": {
      "text/plain": [
       "[1, 2, 3, 5, 6, 8]"
      ]
     },
     "execution_count": 499,
     "metadata": {},
     "output_type": "execute_result"
    }
   ],
   "source": [
    "data1.sort()\n",
    "data1"
   ]
  },
  {
   "cell_type": "code",
   "execution_count": 500,
   "id": "cc608caa-1fa3-43f2-a35a-3b2bf6200bc7",
   "metadata": {},
   "outputs": [
    {
     "data": {
      "text/plain": [
       "['a', 'b', 'c', 'u']"
      ]
     },
     "execution_count": 500,
     "metadata": {},
     "output_type": "execute_result"
    }
   ],
   "source": [
    "data2.sort()\n",
    "data2"
   ]
  },
  {
   "cell_type": "code",
   "execution_count": 3,
   "id": "ed685a1e-b484-422a-945b-a66c79843e09",
   "metadata": {},
   "outputs": [],
   "source": [
    "dic1 = {2:'c',5:'v',1:'e',8:'b',3:'d'}\n",
    "tup1 = (4,2,7,3,1,5)\n",
    "set1 = {6,9,3,5,2,0,1}\n",
    "student = [('jone','A',15),\n",
    "           ('jane','B',12),\n",
    "           ('dave','B',10)]"
   ]
  },
  {
   "cell_type": "code",
   "execution_count": 507,
   "id": "3c5dbdc0-ecd2-44e6-a78a-7dbdb37a7cf5",
   "metadata": {},
   "outputs": [
    {
     "data": {
      "text/plain": [
       "[8, 5, 3, 2, 1]"
      ]
     },
     "execution_count": 507,
     "metadata": {},
     "output_type": "execute_result"
    }
   ],
   "source": [
    "sorted(dic1,reverse=True)"
   ]
  },
  {
   "cell_type": "code",
   "execution_count": 506,
   "id": "44d3585d-02d7-4fbb-a812-d6d7c32bcf53",
   "metadata": {},
   "outputs": [
    {
     "data": {
      "text/plain": [
       "[1, 2, 3, 4, 5, 7]"
      ]
     },
     "execution_count": 506,
     "metadata": {},
     "output_type": "execute_result"
    }
   ],
   "source": [
    "sorted(tup1)"
   ]
  },
  {
   "cell_type": "code",
   "execution_count": 508,
   "id": "92384882-0d5e-4362-9c5f-aa277255314b",
   "metadata": {},
   "outputs": [
    {
     "data": {
      "text/plain": [
       "[0, 1, 2, 3, 5, 6, 9]"
      ]
     },
     "execution_count": 508,
     "metadata": {},
     "output_type": "execute_result"
    }
   ],
   "source": [
    "sorted(set1)"
   ]
  },
  {
   "cell_type": "code",
   "execution_count": 509,
   "id": "31731f5d-183c-4c19-9b66-c7c05b1b8428",
   "metadata": {},
   "outputs": [
    {
     "data": {
      "text/plain": [
       "{2: 'c', 5: 'v', 1: 'e', 8: 'b', 3: 'd'}"
      ]
     },
     "execution_count": 509,
     "metadata": {},
     "output_type": "execute_result"
    }
   ],
   "source": [
    "dic1"
   ]
  },
  {
   "cell_type": "code",
   "execution_count": 511,
   "id": "5856289b-4995-40d6-a883-173431facee7",
   "metadata": {},
   "outputs": [
    {
     "data": {
      "text/plain": [
       "[('dave', 'B', 10), ('jane', 'B', 12), ('jone', 'A', 15)]"
      ]
     },
     "execution_count": 511,
     "metadata": {},
     "output_type": "execute_result"
    }
   ],
   "source": [
    "sorted(student)"
   ]
  },
  {
   "cell_type": "code",
   "execution_count": 514,
   "id": "ada56e7c-c4bd-4b32-aac1-c124a33862d3",
   "metadata": {},
   "outputs": [
    {
     "data": {
      "text/plain": [
       "[(5, 'v'), (1, 'e'), (3, 'd'), (2, 'c'), (8, 'b')]"
      ]
     },
     "execution_count": 514,
     "metadata": {},
     "output_type": "execute_result"
    }
   ],
   "source": [
    "sorted(dic1.items(),key=lambda x : x[1],reverse=True)"
   ]
  },
  {
   "cell_type": "code",
   "execution_count": 517,
   "id": "5e216d81-e7ff-4b3a-97a4-d0aa15a09a0d",
   "metadata": {},
   "outputs": [
    {
     "data": {
      "text/plain": [
       "[('jone', 'A', 15), ('jane', 'B', 12), ('dave', 'B', 10)]"
      ]
     },
     "execution_count": 517,
     "metadata": {},
     "output_type": "execute_result"
    }
   ],
   "source": [
    "sorted(student,key=lambda x : x[1])"
   ]
  },
  {
   "cell_type": "code",
   "execution_count": 4,
   "id": "29ef942e-a1a2-4a8b-9f11-6efd75d86ecc",
   "metadata": {},
   "outputs": [
    {
     "data": {
      "text/plain": [
       "[('jane', 'B', 12), ('dave', 'B', 10), ('jone', 'A', 15)]"
      ]
     },
     "execution_count": 4,
     "metadata": {},
     "output_type": "execute_result"
    }
   ],
   "source": [
    "#itemgetter\n",
    "from operator import itemgetter\n",
    "sorted(student,key=itemgetter(1,2),reverse=True)"
   ]
  },
  {
   "cell_type": "code",
   "execution_count": 6,
   "id": "736cdcda-4dd9-443d-bba1-2f10b1e70cda",
   "metadata": {},
   "outputs": [
    {
     "data": {
      "text/plain": [
       "[('dave', 'B', 10), ('jane', 'B', 12), ('jone', 'A', 15)]"
      ]
     },
     "execution_count": 6,
     "metadata": {},
     "output_type": "execute_result"
    }
   ],
   "source": [
    "def multisort(xs,spece):\n",
    "    for key, reverse in reversed(spece):\n",
    "        xs.sort(key=itemgetter(key),reverse=reverse)\n",
    "    return xs\n",
    "\n",
    "multisort(student,((1,True),(2,False)))"
   ]
  },
  {
   "cell_type": "code",
   "execution_count": null,
   "id": "35597762-681a-43ca-a6ca-c4d50ad3d513",
   "metadata": {},
   "outputs": [],
   "source": []
  },
  {
   "cell_type": "code",
   "execution_count": null,
   "id": "59ad648d-37da-4b4e-9fea-27be4da0ec5f",
   "metadata": {},
   "outputs": [],
   "source": []
  },
  {
   "cell_type": "code",
   "execution_count": 458,
   "id": "975e960f-4bf1-4eb3-8f6e-600cef7ec611",
   "metadata": {},
   "outputs": [],
   "source": [
    "#시간체크 기능 추가\n",
    "#무한반복 처리하고 종료 메뉴 추가\n",
    "# 사용자이름, 시간, 정답갯수 저장\n",
    "#순위출력 (많이 맞춘 사람> 시간이 짧은 사람) "
   ]
  },
  {
   "cell_type": "code",
   "execution_count": 41,
   "id": "c4559ac8-c4db-461e-ac4a-3077380b3d93",
   "metadata": {
    "tags": []
   },
   "outputs": [
    {
     "name": "stdin",
     "output_type": "stream",
     "text": [
      "사용자 이름 :  (종료:Q) 홍길순\n"
     ]
    },
    {
     "name": "stdout",
     "output_type": "stream",
     "text": [
      "20+42 =\n"
     ]
    },
    {
     "name": "stdin",
     "output_type": "stream",
     "text": [
      "정답 >>> 62\n"
     ]
    },
    {
     "name": "stdout",
     "output_type": "stream",
     "text": [
      "33/44 =\n"
     ]
    },
    {
     "name": "stdin",
     "output_type": "stream",
     "text": [
      "정답 >>> 1\n"
     ]
    },
    {
     "name": "stdout",
     "output_type": "stream",
     "text": [
      "17+4 =\n"
     ]
    },
    {
     "name": "stdin",
     "output_type": "stream",
     "text": [
      "정답 >>> 1\n"
     ]
    },
    {
     "name": "stdout",
     "output_type": "stream",
     "text": [
      "21*25 =\n"
     ]
    },
    {
     "name": "stdin",
     "output_type": "stream",
     "text": [
      "정답 >>> 1\n"
     ]
    },
    {
     "name": "stdout",
     "output_type": "stream",
     "text": [
      "22+38 =\n"
     ]
    },
    {
     "name": "stdin",
     "output_type": "stream",
     "text": [
      "정답 >>> 1\n",
      "사용자 이름 :  (종료:Q) 1\n"
     ]
    },
    {
     "name": "stdout",
     "output_type": "stream",
     "text": [
      "40*47 =\n"
     ]
    },
    {
     "name": "stdin",
     "output_type": "stream",
     "text": [
      "정답 >>> 1\n"
     ]
    },
    {
     "name": "stdout",
     "output_type": "stream",
     "text": [
      "33-38 =\n"
     ]
    },
    {
     "name": "stdin",
     "output_type": "stream",
     "text": [
      "정답 >>> 1\n"
     ]
    },
    {
     "name": "stdout",
     "output_type": "stream",
     "text": [
      "6/40 =\n"
     ]
    },
    {
     "name": "stdin",
     "output_type": "stream",
     "text": [
      "정답 >>> 1\n"
     ]
    },
    {
     "name": "stdout",
     "output_type": "stream",
     "text": [
      "7*28 =\n"
     ]
    },
    {
     "name": "stdin",
     "output_type": "stream",
     "text": [
      "정답 >>> 1\n"
     ]
    },
    {
     "name": "stdout",
     "output_type": "stream",
     "text": [
      "5/15 =\n"
     ]
    },
    {
     "name": "stdin",
     "output_type": "stream",
     "text": [
      "정답 >>> 1\n",
      "사용자 이름 :  (종료:Q) 2\n"
     ]
    },
    {
     "name": "stdout",
     "output_type": "stream",
     "text": [
      "2-24 =\n"
     ]
    },
    {
     "name": "stdin",
     "output_type": "stream",
     "text": [
      "정답 >>> 2\n"
     ]
    },
    {
     "name": "stdout",
     "output_type": "stream",
     "text": [
      "18+8 =\n"
     ]
    },
    {
     "name": "stdin",
     "output_type": "stream",
     "text": [
      "정답 >>> 2\n"
     ]
    },
    {
     "name": "stdout",
     "output_type": "stream",
     "text": [
      "34-10 =\n"
     ]
    },
    {
     "name": "stdin",
     "output_type": "stream",
     "text": [
      "정답 >>> 2\n"
     ]
    },
    {
     "name": "stdout",
     "output_type": "stream",
     "text": [
      "36/9 =\n"
     ]
    },
    {
     "name": "stdin",
     "output_type": "stream",
     "text": [
      "정답 >>> 2\n"
     ]
    },
    {
     "name": "stdout",
     "output_type": "stream",
     "text": [
      "2*5 =\n"
     ]
    },
    {
     "name": "stdin",
     "output_type": "stream",
     "text": [
      "정답 >>> 2\n",
      "사용자 이름 :  (종료:Q) q\n"
     ]
    },
    {
     "name": "stdout",
     "output_type": "stream",
     "text": [
      "게임을 종료합니다.\n",
      "[['홍길순', 7.328363418579102, 1], ['1', 1.8580117225646973, 1], ['2', 1.4403414726257324, 1]]\n"
     ]
    }
   ],
   "source": [
    "import random, time\n",
    "\n",
    "total=[]\n",
    "oper = ['+','-','*','/']\n",
    "count = 0\n",
    "\n",
    "while True:\n",
    "    user = []\n",
    "    user_name = input('사용자 이름 :  (종료:Q)')\n",
    "    if user_name.upper() == 'Q':\n",
    "        print('게임을 종료합니다.')\n",
    "        break\n",
    "    elif not user_name.upper() == 'Q':\n",
    "        user.append(user_name)\n",
    "        start = time.time()\n",
    "        for i in range(5):\n",
    "            a = random.randint(1,50)\n",
    "            b = random.randint(1,50)\n",
    "            op = random.choice(oper)\n",
    "            quiz = str(a) + op + str(b)\n",
    "            print(quiz,'=')\n",
    "            result = int(input('정답 >>>'))\n",
    "            if int(eval(quiz)) == result:\n",
    "                count += 1\n",
    "        end = time.time()    \n",
    "        user.append(end-start)\n",
    "        user_count = count\n",
    "        user.append(user_count) \n",
    "    total.append(user)\n",
    "if len(total) == 0:\n",
    "    print('저장된 정보가 없습니다.')\n",
    "else:\n",
    "    sorted(total,key=lambda x : (x[2], -x[1]))\n",
    "    print(total)"
   ]
  },
  {
   "cell_type": "code",
   "execution_count": 39,
   "id": "ead4aec0-cd34-47be-a6ff-b082bf557799",
   "metadata": {},
   "outputs": [
    {
     "name": "stdout",
     "output_type": "stream",
     "text": [
      "9+29 =\n"
     ]
    },
    {
     "name": "stdin",
     "output_type": "stream",
     "text": [
      "정답 >>> 1\n"
     ]
    },
    {
     "name": "stdout",
     "output_type": "stream",
     "text": [
      "오답!\n",
      "47*11 =\n"
     ]
    },
    {
     "name": "stdin",
     "output_type": "stream",
     "text": [
      "정답 >>> 1\n"
     ]
    },
    {
     "name": "stdout",
     "output_type": "stream",
     "text": [
      "오답!\n",
      "7*37 =\n"
     ]
    },
    {
     "name": "stdin",
     "output_type": "stream",
     "text": [
      "정답 >>> 1\n"
     ]
    },
    {
     "name": "stdout",
     "output_type": "stream",
     "text": [
      "오답!\n",
      "27-49 =\n"
     ]
    },
    {
     "name": "stdin",
     "output_type": "stream",
     "text": [
      "정답 >>> 1\n"
     ]
    },
    {
     "name": "stdout",
     "output_type": "stream",
     "text": [
      "오답!\n",
      "46+35 =\n"
     ]
    },
    {
     "name": "stdin",
     "output_type": "stream",
     "text": [
      "정답 >>> 1\n"
     ]
    },
    {
     "name": "stdout",
     "output_type": "stream",
     "text": [
      "오답!\n",
      "0 개 맞춤 걸린시간:3.89\n"
     ]
    },
    {
     "name": "stdin",
     "output_type": "stream",
     "text": [
      "등록할 이름 >>> 홍길동\n"
     ]
    },
    {
     "name": "stdout",
     "output_type": "stream",
     "text": [
      "1등 ['sunjo', 4, 12.1382138179]\n",
      "2등 ['ooo', 3, 5.96323123]\n",
      "3등 ['kkk', 3, 6.239124012]\n",
      "4등 ['홍길동', 0, 3.8915061950683594]\n"
     ]
    },
    {
     "name": "stdin",
     "output_type": "stream",
     "text": [
      "종료(Q), 계속(Enter) q\n"
     ]
    }
   ],
   "source": [
    "import random, time\n",
    "\n",
    "rank = [['sunjo',4,12.1382138179],['kkk',3,6.239124012],['ooo',3,5.96323123]]\n",
    "oper = ['+','-','*','/']\n",
    "while True:\n",
    "    count = 0\n",
    "    start = time.time()\n",
    "    for i in range(5):\n",
    "        a = random.randint(1,50)\n",
    "        b = random.randint(1,50)\n",
    "        op = random.choice(oper)\n",
    "        quiz = str(a) + op + str(b)\n",
    "        print(quiz,'=')\n",
    "        result = int(input('정답 >>>'))\n",
    "        if int(eval(quiz)) == result:\n",
    "            print('정답!')\n",
    "            count += 1\n",
    "        else:\n",
    "            print('오답!')\n",
    "    end = time.time()\n",
    "    print(count,'개 맞춤', f'걸린시간:{end-start:.2f}')\n",
    "    name = input('등록할 이름 >>>')\n",
    "    rank.append([name,count,end-start])\n",
    "    result = sorted(rank,key=lambda x :(-x[1],x[2]))\n",
    "    for i, item in enumerate(result):\n",
    "        print(f'{i+1}등 {item}')\n",
    "    if 'Q' == input('종료(Q), 계속(Enter)').upper():\n",
    "        break"
   ]
  },
  {
   "cell_type": "raw",
   "id": "a0870366-a4ed-4c0d-9501-48328f08fdc8",
   "metadata": {},
   "source": [
    "##커피자판기 메뉴 입력 프로그램\n",
    "coffee = {'아메리카노':3000}\n",
    "#메뉴 입력\n",
    "#메뉴 삭제\n",
    "#메뉴 수정\n",
    "#메뉴 리스트"
   ]
  },
  {
   "cell_type": "code",
   "execution_count": null,
   "id": "cd681a6e-60d0-4054-9c43-95c003f8c02c",
   "metadata": {},
   "outputs": [
    {
     "name": "stdin",
     "output_type": "stream",
     "text": [
      "\n",
      "---------------------------------------------------------------------\n",
      "1. 메뉴입력   2. 메뉴삭제   3. 메뉴 수정   4. 메뉴리스트  5. 종료\n",
      "---------------------------------------------------------------------\n",
      ">>>  5\n"
     ]
    },
    {
     "name": "stdout",
     "output_type": "stream",
     "text": [
      "프로그램 종료\n"
     ]
    }
   ],
   "source": [
    "while True:\n",
    "    display = '''\n",
    "---------------------------------------------------------------------\n",
    "1. 메뉴입력   2. 메뉴삭제   3. 메뉴 수정   4. 메뉴리스트  5. 종료\n",
    "---------------------------------------------------------------------\n",
    ">>> '''\n",
    "    menu = input(display)\n",
    "    if menu == '5':\n",
    "        print('프로그램 종료')\n",
    "        break\n",
    "    elif menu == '1':\n",
    "        menu1 = '''\n",
    "---------------------------------------------------------------------\n",
    "1. 아메리카노   2. 카페모카   3. 카푸치노   4. 카페라떼   5.뒤로가기\n",
    "    (2000)         (3500)       (4000)        (3200)\n",
    "---------------------------------------------------------------------\n",
    ">>>'''\n",
    "        coffee = input(menu1)\n",
    "        if coffee == '1':\n",
    "            coffee_price = 2000\n",
    "            cups = int(input('몇 잔을 드릴까요? >>>'))\n",
    "            total_price = coffee_price*cups\n",
    "            received = int(input(f'총 금액은 {total_price}원입니다. 돈을 투입해 주세요>>>>'))\n",
    "            if received >= total_price:\n",
    "                change = received-total_price\n",
    "                print(f'{received}원을 받았습니다. 거스름돈은 {change}원입니다.')\n",
    "                count = 5\n",
    "                while True:\n",
    "                    print(f'{cups}잔이 {count}초 후 완료됩니다.')\n",
    "                    count -= 1\n",
    "                    if count == 0:\n",
    "                        cups -= 1\n",
    "                        count = 5\n",
    "                        if cups == 0:\n",
    "                            print('맛있게 드세요.')\n",
    "                            break\n",
    "            else:\n",
    "                print('금액이 부족합니다. 주문이 취소되었습니다.')\n",
    "                break\n",
    "            continue\n",
    "        if coffee == '2':\n",
    "            coffee_price = 3500\n",
    "            cups = int(input('몇 잔을 드릴까요? >>>'))\n",
    "            total_price = coffee_price*cups\n",
    "            received = int(input(f'총 금액은 {total_price}원입니다. 돈을 투입해 주세요>>>>'))\n",
    "            if received >= total_price:\n",
    "                change = received-total_price\n",
    "                print(f'{received}원을 받았습니다. 거스름돈은 {change}원입니다.')\n",
    "                count = 6\n",
    "                while True:\n",
    "                    print(f'{cups}잔이 {count}초 후 완료됩니다.')\n",
    "                    count -= 1\n",
    "                    if count == 0:\n",
    "                        cups -= 1\n",
    "                        count = 6\n",
    "                        if cups == 0:\n",
    "                            print('맛있게 드세요.')\n",
    "                            break\n",
    "            else:\n",
    "                print('금액이 부족합니다. 주문이 취소되었습니다.')\n",
    "                break\n",
    "            continue\n",
    "        if coffee == '3':\n",
    "            coffee_price = 4000\n",
    "            cups = int(input('몇 잔을 드릴까요? >>>'))\n",
    "            total_price = coffee_price*cups\n",
    "            received = int(input(f'총 금액은 {total_price}원입니다. 돈을 투입해 주세요>>>>'))\n",
    "            if received >= total_price:\n",
    "                change = received-total_price\n",
    "                print(f'{received}원을 받았습니다. 거스름돈은 {change}원입니다.')\n",
    "                count = 7\n",
    "                while True:\n",
    "                    print(f'{cups}잔이 {count}초 후 완료됩니다.')\n",
    "                    count -= 1\n",
    "                    if count == 0:\n",
    "                        cups -= 1\n",
    "                        count = 7\n",
    "                        if cups == 0:\n",
    "                            print('맛있게 드세요.')\n",
    "                            break\n",
    "            else:\n",
    "                print('금액이 부족합니다. 주문이 취소되었습니다.')\n",
    "                break\n",
    "            continue\n",
    "        if coffee == '4':\n",
    "            coffee_price = 3200\n",
    "            cups = int(input('몇 잔을 드릴까요? >>>'))\n",
    "            total_price = coffee_price*cups\n",
    "            received = int(input(f'총 금액은 {total_price}원입니다. 돈을 투입해 주세요>>>>'))\n",
    "            if received >= total_price:\n",
    "                change = received-total_price\n",
    "                print(f'{received}원을 받았습니다. 거스름돈은 {change}원입니다.')\n",
    "                count = 8\n",
    "                while True:\n",
    "                    print(f'{cups}잔이 {count}초 후 완료됩니다.')\n",
    "                    count -= 1\n",
    "                    if count == 0:\n",
    "                        cups -= 1\n",
    "                        count = 8\n",
    "                        if cups == 0:\n",
    "                            print('맛있게 드세요.')\n",
    "                            break\n",
    "            else:\n",
    "                print('금액이 부족합니다. 주문이 취소되었습니다.')\n",
    "                break\n",
    "            continue\n",
    "        if coffee == '5':\n",
    "            continue\n",
    "    elif menu == '2':  \n",
    "        pass\n",
    "    elif menu == '3':    \n",
    "        pass\n",
    "    elif menu == '4':    \n",
    "        pass"
   ]
  },
  {
   "cell_type": "code",
   "execution_count": 5,
   "id": "e8026415-4958-4b9c-b8f2-f240f1409d22",
   "metadata": {},
   "outputs": [],
   "source": [
    "##커피자판기 메뉴 입력 프로그램\n",
    "coffee = {'아메리카노':3000}\n",
    "#메뉴 입력\n",
    "#메뉴 삭제\n",
    "#메뉴 수정\n",
    "#메뉴 리스트"
   ]
  },
  {
   "cell_type": "code",
   "execution_count": 17,
   "id": "c3401879-85e6-4b11-a039-54ac981327ad",
   "metadata": {},
   "outputs": [
    {
     "name": "stdin",
     "output_type": "stream",
     "text": [
      "\n",
      "------------------------------------------------------------------\n",
      " 1.메뉴입력    2. 메뉴삭제    3.메뉴수정    4.메뉴리스트    5.종료\n",
      "------------------------------------------------------------------\n",
      ">>> 5\n"
     ]
    },
    {
     "name": "stdout",
     "output_type": "stream",
     "text": [
      "프로그램 종료\n"
     ]
    }
   ],
   "source": [
    "while True:\n",
    "    display = '''\n",
    "------------------------------------------------------------------\n",
    " 1.메뉴입력    2. 메뉴삭제    3.메뉴수정    4.메뉴리스트    5.종료\n",
    "------------------------------------------------------------------\n",
    ">>>'''\n",
    "    menu = input(display)\n",
    "    if menu == '5':\n",
    "        print('프로그램 종료')\n",
    "        break\n",
    "    elif menu == '1':\n",
    "        item = input('메뉴명 >>>')\n",
    "        price = int(input('메뉴가격 >>>'))\n",
    "        coffee[item] = price\n",
    "        print(coffee)\n",
    "        \n",
    "    elif menu == '2':\n",
    "        print(coffee.keys())\n",
    "        item = input('삭제할 메뉴명 >>>')\n",
    "        del coffee[item] \n",
    "        print(coffee)\n",
    "    elif menu == '3':\n",
    "        print(coffee.keys())\n",
    "        item = input('수정할 메뉴명 >>>')\n",
    "        price = int(input('수정할 가격 >>>'))\n",
    "        coffee[item] = price\n",
    "        print(coffee)\n",
    "    elif menu == '4':\n",
    "        for k,v in coffee.items():\n",
    "            print(f' {k:^10}  {v:,}')"
   ]
  },
  {
   "cell_type": "code",
   "execution_count": 18,
   "id": "1f7897a1-6774-4799-a265-221f6d39e220",
   "metadata": {},
   "outputs": [],
   "source": [
    "f = open('test01.txt' , 'w')\n",
    "\n",
    "f.close()"
   ]
  }
 ],
 "metadata": {
  "kernelspec": {
   "display_name": "Python 3 (ipykernel)",
   "language": "python",
   "name": "python3"
  },
  "language_info": {
   "codemirror_mode": {
    "name": "ipython",
    "version": 3
   },
   "file_extension": ".py",
   "mimetype": "text/x-python",
   "name": "python",
   "nbconvert_exporter": "python",
   "pygments_lexer": "ipython3",
   "version": "3.9.7"
  }
 },
 "nbformat": 4,
 "nbformat_minor": 5
}
